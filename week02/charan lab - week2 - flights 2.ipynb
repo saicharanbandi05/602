{
 "cells": [
  {
   "cell_type": "markdown",
   "id": "9624c109",
   "metadata": {},
   "source": [
    "# Lab - Week2"
   ]
  },
  {
   "cell_type": "markdown",
   "id": "59d23c40",
   "metadata": {},
   "source": [
    "## Questions:\n",
    "\n",
    "1. When do the first and last flights leave each day?\n",
    "\n",
    "1. When there is a missing value in dep_time then this is an indication of canceled flight. Find the number of cancelled flights for each (carrier, origin) combination.\n",
    "\n",
    "1. Which carrier has the worst dep_delays?\n",
    "\n",
    "1. Which plane (tailnum) has the worst on-time record?\n",
    "\n",
    "1. For each plane, count the number of flights before the first delay of greater than 1 hour.\n",
    "\n",
    "1. By using the flights data find all flights:\n",
    "\n",
    "1. Had an arrival delay of two or more hours.\n",
    "\n",
    "1. Flew to Houston (IAH or HOU)\n",
    "\n",
    "1. Were operated by American, Delta\n",
    "\n",
    "1. How many values are missing in dep_time?\n",
    "\n",
    "1. Sort flight to find fastest flight.\n",
    "\n",
    "1. Which flights travelled the shortest?\n",
    "\n",
    "1. Merge `flights` dataframe with `weather` dataframe and investigate if weather has any affect on delays"
   ]
  },
  {
   "cell_type": "code",
   "execution_count": 1,
   "id": "2d3b40dc",
   "metadata": {},
   "outputs": [],
   "source": [
    "import pandas as pd\n",
    "\n",
    "flights = pd.read_csv('https://raw.githubusercontent.com/msaricaumbc/DS_data/master/nyc_flights.csv')\n",
    "\n",
    "weather = pd.read_csv('https://raw.githubusercontent.com/msaricaumbc/DS_data/master/relational_data/nyc_weather.csv')\n",
    "\n",
    "# example merge:\n",
    "# flights.merge(weather, on= ['year', 'month', 'day', 'hour', 'origin'])"
   ]
  },
  {
   "cell_type": "code",
   "execution_count": 2,
   "id": "ddd11e30",
   "metadata": {},
   "outputs": [
    {
     "name": "stdout",
     "output_type": "stream",
     "text": [
      "        year  month  day  dep_time  sched_dep_time  dep_delay  arr_time  \\\n",
      "0       2013      1    1     517.0             515        2.0     830.0   \n",
      "1       2013      1    1     533.0             529        4.0     850.0   \n",
      "2       2013      1    1     542.0             540        2.0     923.0   \n",
      "3       2013      1    1     544.0             545       -1.0    1004.0   \n",
      "4       2013      1    1     554.0             600       -6.0     812.0   \n",
      "...      ...    ...  ...       ...             ...        ...       ...   \n",
      "336771  2013      9   30       NaN            1455        NaN       NaN   \n",
      "336772  2013      9   30       NaN            2200        NaN       NaN   \n",
      "336773  2013      9   30       NaN            1210        NaN       NaN   \n",
      "336774  2013      9   30       NaN            1159        NaN       NaN   \n",
      "336775  2013      9   30       NaN             840        NaN       NaN   \n",
      "\n",
      "        sched_arr_time  arr_delay carrier  flight tailnum origin dest  \\\n",
      "0                  819       11.0      UA    1545  N14228    EWR  IAH   \n",
      "1                  830       20.0      UA    1714  N24211    LGA  IAH   \n",
      "2                  850       33.0      AA    1141  N619AA    JFK  MIA   \n",
      "3                 1022      -18.0      B6     725  N804JB    JFK  BQN   \n",
      "4                  837      -25.0      DL     461  N668DN    LGA  ATL   \n",
      "...                ...        ...     ...     ...     ...    ...  ...   \n",
      "336771            1634        NaN      9E    3393     NaN    JFK  DCA   \n",
      "336772            2312        NaN      9E    3525     NaN    LGA  SYR   \n",
      "336773            1330        NaN      MQ    3461  N535MQ    LGA  BNA   \n",
      "336774            1344        NaN      MQ    3572  N511MQ    LGA  CLE   \n",
      "336775            1020        NaN      MQ    3531  N839MQ    LGA  RDU   \n",
      "\n",
      "        air_time  distance  hour  minute             time_hour  \n",
      "0          227.0      1400     5      15  2013-01-01T10:00:00Z  \n",
      "1          227.0      1416     5      29  2013-01-01T10:00:00Z  \n",
      "2          160.0      1089     5      40  2013-01-01T10:00:00Z  \n",
      "3          183.0      1576     5      45  2013-01-01T10:00:00Z  \n",
      "4          116.0       762     6       0  2013-01-01T11:00:00Z  \n",
      "...          ...       ...   ...     ...                   ...  \n",
      "336771       NaN       213    14      55  2013-09-30T18:00:00Z  \n",
      "336772       NaN       198    22       0  2013-10-01T02:00:00Z  \n",
      "336773       NaN       764    12      10  2013-09-30T16:00:00Z  \n",
      "336774       NaN       419    11      59  2013-09-30T15:00:00Z  \n",
      "336775       NaN       431     8      40  2013-09-30T12:00:00Z  \n",
      "\n",
      "[336776 rows x 19 columns]\n"
     ]
    }
   ],
   "source": [
    "print(flights)"
   ]
  },
  {
   "cell_type": "code",
   "execution_count": 4,
   "id": "1f7e7884",
   "metadata": {},
   "outputs": [],
   "source": [
    "import pandas as pd\n",
    "flights['date'] = pd.to_datetime(flights[['year', 'month', 'day']])"
   ]
  },
  {
   "cell_type": "code",
   "execution_count": 5,
   "id": "a9eb8031",
   "metadata": {},
   "outputs": [
    {
     "name": "stdout",
     "output_type": "stream",
     "text": [
      "First and last flights each day:\n",
      "            first_flight  last_flight\n",
      "date                                 \n",
      "2013-01-01         517.0       2356.0\n",
      "2013-01-02          42.0       2354.0\n",
      "2013-01-03          32.0       2349.0\n",
      "2013-01-04          25.0       2358.0\n",
      "2013-01-05          14.0       2357.0\n",
      "...                  ...          ...\n",
      "2013-12-27           2.0       2351.0\n",
      "2013-12-28           7.0       2358.0\n",
      "2013-12-29           3.0       2400.0\n",
      "2013-12-30           1.0       2356.0\n",
      "2013-12-31          13.0       2356.0\n",
      "\n",
      "[365 rows x 2 columns]\n"
     ]
    }
   ],
   "source": [
    "import pandas as pd\n",
    "flights['date'] = pd.to_datetime(flights[['year', 'month', 'day']])\n",
    "first_flight = flights.groupby('date')['dep_time'].min()\n",
    "last_flight = flights.groupby('date')['dep_time'].max()\n",
    "first_last = pd.DataFrame()\n",
    "first_last['first_flight'] = first_flight\n",
    "first_last['last_flight'] = last_flight\n",
    "print(\"First and last flights each day:\")\n",
    "print(first_last)"
   ]
  },
  {
   "cell_type": "code",
   "execution_count": 8,
   "id": "77754332",
   "metadata": {},
   "outputs": [
    {
     "name": "stdout",
     "output_type": "stream",
     "text": [
      "Number of cancelled flights for each (carrier) combination:\n",
      "Number of cancelled flights for each (origin) combination:\n",
      "origin\n",
      "EWR    3239\n",
      "JFK    1863\n",
      "LGA    3153\n",
      "dtype: int64\n"
     ]
    }
   ],
   "source": [
    "cancelled_flights = flights[flights['dep_time'].isnull()].groupby(['carrier']).size()\n",
    "cancelled_flights = flights[flights['dep_time'].isnull()].groupby(['origin']).size()\n",
    "print(\"Number of cancelled flights for each (carrier) combination:\")\n",
    "print(\"Number of cancelled flights for each (origin) combination:\")\n",
    "print(cancelled_flights)"
   ]
  },
  {
   "cell_type": "code",
   "execution_count": 9,
   "id": "2371f2b8",
   "metadata": {},
   "outputs": [
    {
     "name": "stdout",
     "output_type": "stream",
     "text": [
      "Carrier with the maximum average departure delay: F9\n",
      "Average departure delay for the carrier: 20.215542521994134\n"
     ]
    }
   ],
   "source": [
    "avg_delay_per_carrier = flights.groupby('carrier')['dep_delay'].mean()\n",
    "carrier_with_max_delay = avg_delay_per_carrier.idxmax()\n",
    "max_avg_delay = avg_delay_per_carrier.max()\n",
    "print(\"Carrier with the maximum average departure delay:\", carrier_with_max_delay)\n",
    "print(\"Average departure delay for the carrier:\", max_avg_delay)"
   ]
  },
  {
   "cell_type": "code",
   "execution_count": 10,
   "id": "ef770a83",
   "metadata": {},
   "outputs": [
    {
     "name": "stdout",
     "output_type": "stream",
     "text": [
      "Tail number with the maximum average departure delay: N844MH\n",
      "Average departure delay for the tail number: 297.0\n"
     ]
    }
   ],
   "source": [
    "avg_delay_per_tailnum = flights.groupby('tailnum')['dep_delay'].mean()\n",
    "tailnum_with_max_delay = avg_delay_per_tailnum.idxmax()\n",
    "max_avg_delay = avg_delay_per_tailnum.max()\n",
    "print(\"Tail number with the maximum average departure delay:\", tailnum_with_max_delay)\n",
    "print(\"Average departure delay for the tail number:\", max_avg_delay)"
   ]
  },
  {
   "cell_type": "code",
   "execution_count": 24,
   "id": "9931fb76",
   "metadata": {},
   "outputs": [
    {
     "name": "stdout",
     "output_type": "stream",
     "text": [
      "Number of flights before first delay greater than 1 hour for each plane:\n",
      "tailnum\n",
      "D942DN    120316\n",
      "N0EGMQ    287812\n",
      "N10156     19237\n",
      "N102UW    336207\n",
      "N103US    189798\n",
      "           ...  \n",
      "N997DL    287442\n",
      "N998AT    309927\n",
      "N998DL    183486\n",
      "N999DN     90740\n",
      "N9EAMQ    139992\n",
      "Length: 4043, dtype: int64\n"
     ]
    },
    {
     "name": "stderr",
     "output_type": "stream",
     "text": [
      "C:\\Users\\saedunu\\AppData\\Local\\Temp\\ipykernel_10336\\3393969995.py:9: DeprecationWarning: DataFrameGroupBy.apply operated on the grouping columns. This behavior is deprecated, and in a future version of pandas the grouping columns will be excluded from the operation. Either pass `include_groups=False` to exclude the groupings or explicitly select the grouping columns after groupby to silence this warning.\n",
      "  flights_before_delay = groups.apply(count_before_delay)\n"
     ]
    }
   ],
   "source": [
    "sorted_flights = flights.sort_values(by=['tailnum', 'dep_time'])\n",
    "\n",
    "groups = sorted_flights.groupby('tailnum')\n",
    "\n",
    "def count_before_delay(group):\n",
    "    first_delay_index = (group['dep_delay'] > 60).idxmax() \n",
    "    return first_delay_index if first_delay_index is not None else len(group)\n",
    "\n",
    "flights_before_delay = groups.apply(count_before_delay)\n",
    "\n",
    "print(\"Number of flights before first delay greater than 1 hour for each plane:\")\n",
    "print(flights_before_delay)"
   ]
  },
  {
   "cell_type": "code",
   "execution_count": 11,
   "id": "aa732eb8",
   "metadata": {},
   "outputs": [
    {
     "name": "stdout",
     "output_type": "stream",
     "text": [
      "Flights with an arrival delay of two or more hours:\n",
      "        year  month  day  dep_time  sched_dep_time  dep_delay  arr_time  \\\n",
      "119     2013      1    1     811.0             630      101.0    1047.0   \n",
      "151     2013      1    1     848.0            1835      853.0    1001.0   \n",
      "218     2013      1    1     957.0             733      144.0    1056.0   \n",
      "268     2013      1    1    1114.0             900      134.0    1447.0   \n",
      "447     2013      1    1    1505.0            1310      115.0    1638.0   \n",
      "...      ...    ...  ...       ...             ...        ...       ...   \n",
      "336579  2013      9   30    1823.0            1545      158.0    1934.0   \n",
      "336668  2013      9   30    1951.0            1649      182.0    2157.0   \n",
      "336724  2013      9   30    2053.0            1815      158.0    2310.0   \n",
      "336757  2013      9   30    2159.0            1845      194.0    2344.0   \n",
      "336763  2013      9   30    2235.0            2001      154.0      59.0   \n",
      "\n",
      "        sched_arr_time  arr_delay carrier  flight tailnum origin dest  \\\n",
      "119                830      137.0      MQ    4576  N531MQ    LGA  CLT   \n",
      "151               1950      851.0      MQ    3944  N942MQ    JFK  BWI   \n",
      "218                853      123.0      UA     856  N534UA    EWR  BOS   \n",
      "268               1222      145.0      UA    1086  N76502    LGA  IAH   \n",
      "447               1431      127.0      EV    4497  N17984    EWR  RIC   \n",
      "...                ...        ...     ...     ...     ...    ...  ...   \n",
      "336579            1733      121.0      9E    3459  N916XJ    JFK  BNA   \n",
      "336668            1903      174.0      EV    4294  N13988    EWR  SAV   \n",
      "336724            2054      136.0      EV    5292  N600QX    EWR  ATL   \n",
      "336757            2030      194.0      9E    3320  N906XJ    JFK  BUF   \n",
      "336763            2249      130.0      B6    1083  N804JB    JFK  MCO   \n",
      "\n",
      "        air_time  distance  hour  minute             time_hour       date  \n",
      "119        118.0       544     6      30  2013-01-01T11:00:00Z 2013-01-01  \n",
      "151         41.0       184    18      35  2013-01-01T23:00:00Z 2013-01-01  \n",
      "218         37.0       200     7      33  2013-01-01T12:00:00Z 2013-01-01  \n",
      "268        248.0      1416     9       0  2013-01-01T14:00:00Z 2013-01-01  \n",
      "447         63.0       277    13      10  2013-01-01T18:00:00Z 2013-01-01  \n",
      "...          ...       ...   ...     ...                   ...        ...  \n",
      "336579      95.0       765    15      45  2013-09-30T19:00:00Z 2013-09-30  \n",
      "336668      95.0       708    16      49  2013-09-30T20:00:00Z 2013-09-30  \n",
      "336724      91.0       746    18      15  2013-09-30T22:00:00Z 2013-09-30  \n",
      "336757      50.0       301    18      45  2013-09-30T22:00:00Z 2013-09-30  \n",
      "336763     123.0       944    20       1  2013-10-01T00:00:00Z 2013-09-30  \n",
      "\n",
      "[10200 rows x 20 columns]\n"
     ]
    }
   ],
   "source": [
    "flights['arr_delay'] = pd.to_numeric(flights['arr_delay'])\n",
    "flights_with_delay = flights[flights['arr_delay'] >= 120]\n",
    "print(\"Flights with an arrival delay of two or more hours:\")\n",
    "print(flights_with_delay)\n"
   ]
  },
  {
   "cell_type": "code",
   "execution_count": 27,
   "id": "dc3e34d0",
   "metadata": {},
   "outputs": [
    {
     "name": "stdout",
     "output_type": "stream",
     "text": [
      "Flights that flew to Houston (IAH or HOU):\n",
      "        year  month  day  dep_time  sched_dep_time  dep_delay  arr_time  \\\n",
      "0       2013      1    1     517.0             515        2.0     830.0   \n",
      "1       2013      1    1     533.0             529        4.0     850.0   \n",
      "32      2013      1    1     623.0             627       -4.0     933.0   \n",
      "81      2013      1    1     728.0             732       -4.0    1041.0   \n",
      "89      2013      1    1     739.0             739        0.0    1104.0   \n",
      "...      ...    ...  ...       ...             ...        ...       ...   \n",
      "336524  2013      9   30    1729.0            1720        9.0    2001.0   \n",
      "336527  2013      9   30    1735.0            1715       20.0    2010.0   \n",
      "336618  2013      9   30    1859.0            1859        0.0    2134.0   \n",
      "336694  2013      9   30    2015.0            2015        0.0    2244.0   \n",
      "336737  2013      9   30    2105.0            2106       -1.0    2329.0   \n",
      "\n",
      "        sched_arr_time  arr_delay carrier  flight tailnum origin dest  \\\n",
      "0                  819       11.0      UA    1545  N14228    EWR  IAH   \n",
      "1                  830       20.0      UA    1714  N24211    LGA  IAH   \n",
      "32                 932        1.0      UA     496  N459UA    LGA  IAH   \n",
      "81                1038        3.0      UA     473  N488UA    LGA  IAH   \n",
      "89                1038       26.0      UA    1479  N37408    EWR  IAH   \n",
      "...                ...        ...     ...     ...     ...    ...  ...   \n",
      "336524            2010       -9.0      UA     652  N455UA    EWR  IAH   \n",
      "336527            2005        5.0      WN    2067  N296WN    EWR  HOU   \n",
      "336618            2159      -25.0      UA    1128  N14731    LGA  IAH   \n",
      "336694            2307      -23.0      UA    1545  N17730    EWR  IAH   \n",
      "336737            2354      -25.0      UA     475  N477UA    EWR  IAH   \n",
      "\n",
      "        air_time  distance  hour  minute             time_hour       date  \n",
      "0          227.0      1400     5      15  2013-01-01T10:00:00Z 2013-01-01  \n",
      "1          227.0      1416     5      29  2013-01-01T10:00:00Z 2013-01-01  \n",
      "32         229.0      1416     6      27  2013-01-01T11:00:00Z 2013-01-01  \n",
      "81         238.0      1416     7      32  2013-01-01T12:00:00Z 2013-01-01  \n",
      "89         249.0      1400     7      39  2013-01-01T12:00:00Z 2013-01-01  \n",
      "...          ...       ...   ...     ...                   ...        ...  \n",
      "336524     173.0      1400    17      20  2013-09-30T21:00:00Z 2013-09-30  \n",
      "336527     188.0      1411    17      15  2013-09-30T21:00:00Z 2013-09-30  \n",
      "336618     180.0      1416    18      59  2013-09-30T22:00:00Z 2013-09-30  \n",
      "336694     174.0      1400    20      15  2013-10-01T00:00:00Z 2013-09-30  \n",
      "336737     175.0      1400    21       6  2013-10-01T01:00:00Z 2013-09-30  \n",
      "\n",
      "[9313 rows x 20 columns]\n"
     ]
    }
   ],
   "source": [
    "flights_to_houston = flights[flights['dest'].isin(['IAH', 'HOU'])]\n",
    "\n",
    "print(\"Flights that flew to Houston (IAH or HOU):\")\n",
    "print(flights_to_houston)"
   ]
  },
  {
   "cell_type": "code",
   "execution_count": 12,
   "id": "15a18afc",
   "metadata": {},
   "outputs": [
    {
     "name": "stdout",
     "output_type": "stream",
     "text": [
      "Flights that were operated by American Airlines or Delta Air Lines:\n",
      "        year  month  day  dep_time  sched_dep_time  dep_delay  arr_time  \\\n",
      "2       2013      1    1     542.0             540        2.0     923.0   \n",
      "4       2013      1    1     554.0             600       -6.0     812.0   \n",
      "9       2013      1    1     558.0             600       -2.0     753.0   \n",
      "14      2013      1    1     559.0             600       -1.0     941.0   \n",
      "20      2013      1    1     602.0             610       -8.0     812.0   \n",
      "...      ...    ...  ...       ...             ...        ...       ...   \n",
      "336709  2013      9   30    2032.0            2045      -13.0    2147.0   \n",
      "336715  2013      9   30    2041.0            2045       -4.0    2147.0   \n",
      "336718  2013      9   30    2050.0            2045        5.0      20.0   \n",
      "336744  2013      9   30    2121.0            2100       21.0    2349.0   \n",
      "336751  2013      9   30    2140.0            2140        0.0      10.0   \n",
      "\n",
      "        sched_arr_time  arr_delay carrier  flight tailnum origin dest  \\\n",
      "2                  850       33.0      AA    1141  N619AA    JFK  MIA   \n",
      "4                  837      -25.0      DL     461  N668DN    LGA  ATL   \n",
      "9                  745        8.0      AA     301  N3ALAA    LGA  ORD   \n",
      "14                 910       31.0      AA     707  N3DUAA    LGA  DFW   \n",
      "20                 820       -8.0      DL    1919  N971DL    LGA  MSP   \n",
      "...                ...        ...     ...     ...     ...    ...  ...   \n",
      "336709            2225      -38.0      AA     371  N434AA    LGA  ORD   \n",
      "336715            2208      -21.0      DL     985  N359NB    JFK  BOS   \n",
      "336718              53      -33.0      DL     347  N396DA    JFK  SJU   \n",
      "336744              14      -25.0      DL    2363  N193DN    JFK  LAX   \n",
      "336751              40      -30.0      AA     185  N335AA    JFK  LAX   \n",
      "\n",
      "        air_time  distance  hour  minute             time_hour       date  \n",
      "2          160.0      1089     5      40  2013-01-01T10:00:00Z 2013-01-01  \n",
      "4          116.0       762     6       0  2013-01-01T11:00:00Z 2013-01-01  \n",
      "9          138.0       733     6       0  2013-01-01T11:00:00Z 2013-01-01  \n",
      "14         257.0      1389     6       0  2013-01-01T11:00:00Z 2013-01-01  \n",
      "20         170.0      1020     6      10  2013-01-01T11:00:00Z 2013-01-01  \n",
      "...          ...       ...   ...     ...                   ...        ...  \n",
      "336709     105.0       733    20      45  2013-10-01T00:00:00Z 2013-09-30  \n",
      "336715      37.0       187    20      45  2013-10-01T00:00:00Z 2013-09-30  \n",
      "336718     188.0      1598    20      45  2013-10-01T00:00:00Z 2013-09-30  \n",
      "336744     296.0      2475    21       0  2013-10-01T01:00:00Z 2013-09-30  \n",
      "336751     298.0      2475    21      40  2013-10-01T01:00:00Z 2013-09-30  \n",
      "\n",
      "[80839 rows x 20 columns]\n"
     ]
    }
   ],
   "source": [
    "flights_operated = flights[flights['carrier'].isin(['AA', 'DL'])]\n",
    "print(\"Flights that were operated by American Airlines or Delta Air Lines:\")\n",
    "print(flights_operated)"
   ]
  },
  {
   "cell_type": "code",
   "execution_count": 13,
   "id": "cb4bbcc9",
   "metadata": {},
   "outputs": [
    {
     "name": "stdout",
     "output_type": "stream",
     "text": [
      "Number of missing values in departure time: 8255\n"
     ]
    }
   ],
   "source": [
    "missing_dep_time_count = flights['dep_time'].isnull().sum()\n",
    "print(\"Number of missing values in departure time:\", missing_dep_time_count)"
   ]
  },
  {
   "cell_type": "code",
   "execution_count": 14,
   "id": "173fa716",
   "metadata": {},
   "outputs": [
    {
     "name": "stdout",
     "output_type": "stream",
     "text": [
      "Fastest flight:\n",
      "year                              2013\n",
      "month                                1\n",
      "day                                  1\n",
      "dep_time                           NaT\n",
      "sched_dep_time                     515\n",
      "dep_delay                          2.0\n",
      "arr_time                           NaT\n",
      "sched_arr_time                     819\n",
      "arr_delay                         11.0\n",
      "carrier                             UA\n",
      "flight                            1545\n",
      "tailnum                         N14228\n",
      "origin                             EWR\n",
      "dest                               IAH\n",
      "air_time                         227.0\n",
      "distance                          1400\n",
      "hour                                 5\n",
      "minute                              15\n",
      "time_hour         2013-01-01T10:00:00Z\n",
      "date               2013-01-01 00:00:00\n",
      "duration                           NaN\n",
      "Name: 0, dtype: object\n"
     ]
    }
   ],
   "source": [
    "flights['dep_time'] = pd.to_datetime(flights['dep_time'], format='%H:%M', errors='coerce')\n",
    "flights['arr_time'] = pd.to_datetime(flights['arr_time'], format='%H:%M', errors='coerce')\n",
    "flights['duration'] = (flights['arr_time'] - flights['dep_time']).dt.total_seconds() / 60\n",
    "fastest_flight = flights.sort_values(by='duration').iloc[0]\n",
    "print(\"Fastest flight:\")\n",
    "print(fastest_flight)\n"
   ]
  },
  {
   "cell_type": "code",
   "execution_count": 18,
   "id": "cbf8c3d6",
   "metadata": {},
   "outputs": [
    {
     "name": "stdout",
     "output_type": "stream",
     "text": [
      "Shortest scheduled flight:\n",
      "year                              2013\n",
      "month                                1\n",
      "day                                  1\n",
      "dep_time                           NaT\n",
      "sched_dep_time                     NaT\n",
      "dep_delay                          2.0\n",
      "arr_time                           NaT\n",
      "sched_arr_time                     NaT\n",
      "arr_delay                         11.0\n",
      "carrier                             UA\n",
      "flight                            1545\n",
      "tailnum                         N14228\n",
      "origin                             EWR\n",
      "dest                               IAH\n",
      "air_time                         227.0\n",
      "distance                          1400\n",
      "hour                                 5\n",
      "minute                              15\n",
      "time_hour         2013-01-01T10:00:00Z\n",
      "date               2013-01-01 00:00:00\n",
      "duration                           NaN\n",
      "Name: 0, dtype: object\n"
     ]
    }
   ],
   "source": [
    "flights['sched_dep_time'] = pd.to_datetime(flights['sched_dep_time'], format='%H:%M', errors='coerce')\n",
    "flights['sched_arr_time'] = pd.to_datetime(flights['sched_arr_time'], format='%H:%M', errors='coerce')\n",
    "flights['duration'] = (flights['sched_arr_time'] - flights['sched_dep_time']).dt.total_seconds() / 60\n",
    "shortest_flight = flights.sort_values(by='duration').iloc[0]\n",
    "print(\"Shortest scheduled flight:\")\n",
    "print(shortest_flight)\n"
   ]
  },
  {
   "cell_type": "code",
   "execution_count": 19,
   "id": "440e8863",
   "metadata": {},
   "outputs": [
    {
     "name": "stdout",
     "output_type": "stream",
     "text": [
      "Correlation between weather variables and delays:\n",
      "            dep_delay  arr_delay      temp    precip  wind_speed\n",
      "dep_delay    1.000000   0.914890  0.054807  0.055596    0.009305\n",
      "arr_delay    0.914890   1.000000  0.028734  0.068161    0.017193\n",
      "temp         0.054807   0.028734  1.000000  0.009372   -0.107069\n",
      "precip       0.055596   0.068161  0.009372  1.000000    0.053185\n",
      "wind_speed   0.009305   0.017193 -0.107069  0.053185    1.000000\n"
     ]
    }
   ],
   "source": [
    "import pandas as pd\n",
    "merged_df = pd.merge(flights, weather, on=['year', 'month', 'day', 'origin'], how='left')\n",
    "correlation_matrix = merged_df[['dep_delay', 'arr_delay', 'temp', 'precip', 'wind_speed']].corr()\n",
    "print(\"Correlation between weather variables and delays:\")\n",
    "print(correlation_matrix)"
   ]
  }
 ],
 "metadata": {
  "kernelspec": {
   "display_name": "Python 3 (ipykernel)",
   "language": "python",
   "name": "python3"
  },
  "language_info": {
   "codemirror_mode": {
    "name": "ipython",
    "version": 3
   },
   "file_extension": ".py",
   "mimetype": "text/x-python",
   "name": "python",
   "nbconvert_exporter": "python",
   "pygments_lexer": "ipython3",
   "version": "3.11.4"
  }
 },
 "nbformat": 4,
 "nbformat_minor": 5
}
