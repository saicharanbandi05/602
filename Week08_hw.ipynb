{
 "cells": [
  {
   "cell_type": "code",
   "execution_count": 17,
   "id": "f513de89",
   "metadata": {},
   "outputs": [],
   "source": [
    "import numpy as np\n",
    "import pandas as pd\n",
    "from sklearn.model_selection import train_test_split, GridSearchCV\n",
    "from sklearn.preprocessing import LabelEncoder\n",
    "from sklearn.linear_model import LogisticRegression\n",
    "from sklearn.svm import SVC\n",
    "from sklearn.neighbors import KNeighborsClassifier\n",
    "from sklearn.naive_bayes import MultinomialNB\n",
    "from sklearn.tree import DecisionTreeClassifier\n",
    "from sklearn.pipeline import Pipeline\n",
    "\n",
    "# Load data\n",
    "X_train = pd.read_csv('https://github.com/msaricaumbc/DS_data/raw/master/ds602/movie/X_train.csv')\n",
    "y_train = pd.read_csv('https://github.com/msaricaumbc/DS_data/raw/master/ds602/movie/y_train.csv')\n",
    "X_test = pd.read_csv('https://github.com/msaricaumbc/DS_data/raw/master/ds602/movie/X_final.csv')\n",
    "y_test = pd.read_csv('https://github.com/msaricaumbc/DS_data/raw/master/ds602/movie/y_final.csv')\n",
    "\n"
   ]
  },
  {
   "cell_type": "code",
   "execution_count": 18,
   "id": "7b9bc474",
   "metadata": {},
   "outputs": [],
   "source": [
    "#Choosing data points due to heavy volume of data.\n",
    "\n",
    "subset_size = 0.1  \n",
    "X_train, _, y_train, _ = train_test_split(X_train, y_train, train_size=subset_size, random_state=42)\n",
    "\n"
   ]
  },
  {
   "cell_type": "code",
   "execution_count": 19,
   "id": "510ff814",
   "metadata": {},
   "outputs": [],
   "source": [
    "X_combined = pd.concat([X_train, X_test], axis=0)\n",
    "\n",
    "#Encoding string values\n",
    "label_encoder = LabelEncoder()\n",
    "for column in X_combined.columns:\n",
    "    if X_combined[column].dtype == 'object':\n",
    "        label_encoder.fit(X_combined[column])\n",
    "        X_train[column] = label_encoder.transform(X_train[column])\n",
    "        X_test[column] = label_encoder.transform(X_test[column])\n",
    "\n",
    "# Encoding target labels\n",
    "label_encoder_y = LabelEncoder()\n",
    "y_train_encoded = label_encoder_y.fit_transform(y_train.values.ravel())\n",
    "y_test_encoded = label_encoder_y.transform(y_test.values.ravel())\n",
    "\n"
   ]
  },
  {
   "cell_type": "code",
   "execution_count": 20,
   "id": "df730e0e",
   "metadata": {},
   "outputs": [],
   "source": [
    "# Defining the models and parameter grids\n",
    "models = {\n",
    "    'Logistic Regression': (LogisticRegression(), {'clf__C': [0.1, 1, 10]}),\n",
    "    'SVM': (SVC(), {'clf__C': [0.1, 1, 10], 'clf__gamma': [0.01, 0.1, 1]}),\n",
    "    'KNN': (KNeighborsClassifier(), {'clf__n_neighbors': [3, 5, 7, 9]}),\n",
    "    'Naive Bayes': (MultinomialNB(), {}),\n",
    "    'Decision Tree': (DecisionTreeClassifier(), {'clf__max_depth': [None, 10, 20]})\n",
    "}\n",
    "\n",
    "\n"
   ]
  },
  {
   "cell_type": "code",
   "execution_count": 21,
   "id": "ab44ba17",
   "metadata": {},
   "outputs": [],
   "source": [
    "# Performing GridSearchCV \n",
    "results = {}\n",
    "for model_name, (model, param_grid) in models.items():\n",
    "    pipeline = Pipeline([\n",
    "        ('clf', model)\n",
    "    ])\n",
    "    grid_search = GridSearchCV(pipeline, param_grid, cv=3, n_jobs=-1)\n",
    "    grid_search.fit(X_train, y_train_encoded)\n",
    "    results[model_name] = grid_search\n",
    "\n"
   ]
  },
  {
   "cell_type": "code",
   "execution_count": 22,
   "id": "c907694f",
   "metadata": {},
   "outputs": [
    {
     "name": "stdout",
     "output_type": "stream",
     "text": [
      "Logistic Regression - Test Accuracy: 0.4999\n",
      "Best hyperparameters:\n",
      "{'clf__C': 0.1}\n",
      "\n",
      "SVM - Test Accuracy: 0.5331\n",
      "Best hyperparameters:\n",
      "{'clf__C': 10, 'clf__gamma': 1}\n",
      "\n",
      "KNN - Test Accuracy: 0.5428\n",
      "Best hyperparameters:\n",
      "{'clf__n_neighbors': 3}\n",
      "\n",
      "Naive Bayes - Test Accuracy: 0.5\n",
      "Best hyperparameters:\n",
      "{}\n",
      "\n",
      "Decision Tree - Test Accuracy: 0.5419\n",
      "Best hyperparameters:\n",
      "{'clf__max_depth': None}\n",
      "\n"
     ]
    }
   ],
   "source": [
    "for model_name, grid_search in results.items():\n",
    "    accuracy = grid_search.score(X_test, y_test_encoded)\n",
    "    print(f'{model_name} - Test Accuracy: {accuracy}')\n",
    "    print('Best hyperparameters:')\n",
    "    print(grid_search.best_params_)\n",
    "    print()"
   ]
  },
  {
   "cell_type": "markdown",
   "id": "ea5c93fc",
   "metadata": {},
   "source": [
    "The KNN model achieved the highest test accuracy among all models, with an accuracy of 54.28%.\n",
    "\n",
    "The SVM model also performed relatively well with a test accuracy of 53.31%.\n",
    "\n",
    "The Decision Tree model had a comparable performance to KNN, with a test accuracy of 54.19%.\n",
    "\n",
    "Logistic Regression and Naive Bayes had lower test accuracies, around 50%, indicating that they may not be as effective for this dataset."
   ]
  },
  {
   "cell_type": "code",
   "execution_count": null,
   "id": "275a2534",
   "metadata": {},
   "outputs": [],
   "source": []
  }
 ],
 "metadata": {
  "kernelspec": {
   "display_name": "Python 3 (ipykernel)",
   "language": "python",
   "name": "python3"
  },
  "language_info": {
   "codemirror_mode": {
    "name": "ipython",
    "version": 3
   },
   "file_extension": ".py",
   "mimetype": "text/x-python",
   "name": "python",
   "nbconvert_exporter": "python",
   "pygments_lexer": "ipython3",
   "version": "3.9.12"
  }
 },
 "nbformat": 4,
 "nbformat_minor": 5
}
