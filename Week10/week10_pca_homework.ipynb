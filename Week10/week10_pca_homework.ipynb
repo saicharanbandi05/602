{
  "cells": [
    {
      "cell_type": "markdown",
      "metadata": {
        "id": "fqagjmGpbt-o"
      },
      "source": [
        "# Week 10 - PCA and Dimension Reduction Homework\n",
        "Execute the below code and answer the following questions. __Do NOT commit the csv file!__"
      ]
    },
    {
      "cell_type": "code",
      "execution_count": 3,
      "metadata": {
        "id": "Ath5bhowbt-r"
      },
      "outputs": [],
      "source": [
        "import pandas as pd\n",
        "import numpy as np\n",
        "import matplotlib.pyplot as plt\n",
        "%matplotlib inline\n",
        "from sklearn.datasets import make_classification\n",
        "\n",
        "def generate_data():\n",
        "    x, y = make_classification(n_samples=1500,\n",
        "                            n_features = 20,\n",
        "                            n_informative = 8,\n",
        "                            n_redundant = 5,\n",
        "                            n_repeated = 1,\n",
        "                            n_classes = 3,\n",
        "                            weights = (0.5, 0.25, 0.25),\n",
        "                            random_state = 120\n",
        "                            )\n",
        "    colNames = ['var'+str(x) for x in range(20)]\n",
        "    colNames.append('target')\n",
        "\n",
        "    df = pd.DataFrame(np.concatenate((x,y.reshape(-1,1)), axis=1), columns=colNames)\n",
        "#     df.to_csv('pca-dataset.csv', index=False)\n",
        "    return df\n",
        "\n",
        "df = generate_data()"
      ]
    },
    {
      "cell_type": "code",
      "execution_count": 4,
      "metadata": {
        "id": "k0nlU8DXbt-t",
        "outputId": "c0e28803-124d-4087-a18d-2ee4040dfc26",
        "colab": {
          "base_uri": "https://localhost:8080/",
          "height": 255
        }
      },
      "outputs": [
        {
          "output_type": "execute_result",
          "data": {
            "text/plain": [
              "       var0      var1      var2      var3      var4      var5      var6  \\\n",
              "0 -2.882513 -3.272465 -2.520732 -1.987174 -2.073689 -3.272465 -1.237969   \n",
              "1  0.775242 -1.015994  0.005137  0.057274  0.590205 -1.015994  1.350954   \n",
              "2 -0.876376  0.220453  3.114224 -1.640025  1.180348  0.220453  0.465102   \n",
              "3 -2.550342 -1.968144  0.077681 -1.887719  1.864445 -1.968144 -0.527958   \n",
              "4 -0.454974  1.293300  0.112201 -0.589989 -1.674321  1.293300  0.487302   \n",
              "\n",
              "       var7      var8      var9  ...     var11     var12     var13     var14  \\\n",
              "0  1.690547 -0.211314 -5.753190  ... -0.574979 -1.916275 -5.994075 -3.349615   \n",
              "1 -1.493037 -0.862391 -1.986047  ...  0.523760  0.399579  0.088600  0.718606   \n",
              "2  0.222511  0.880455  2.922315  ... -0.370516  3.585262 -2.168162  2.693429   \n",
              "3 -0.201467 -0.532649  2.287445  ... -0.041341  2.383582 -0.417253  1.305379   \n",
              "4  1.776318  0.702520 -1.024127  ... -0.452869 -0.667306  0.345364 -3.920591   \n",
              "\n",
              "      var15     var16     var17     var18     var19  target  \n",
              "0 -0.846193  2.491347  1.360958 -2.892522 -1.377561     0.0  \n",
              "1 -1.112030  0.083929  0.606544 -1.376793  1.302641     2.0  \n",
              "2 -0.966636  1.586302 -2.821546  0.482164  0.187404     0.0  \n",
              "3 -0.435123 -0.468557  0.923290  3.880050  2.676798     1.0  \n",
              "4 -0.438296 -1.690141  0.176906  1.920142  1.474634     0.0  \n",
              "\n",
              "[5 rows x 21 columns]"
            ],
            "text/html": [
              "\n",
              "  <div id=\"df-9085c1bb-87f3-4496-aa5a-40145f95408a\" class=\"colab-df-container\">\n",
              "    <div>\n",
              "<style scoped>\n",
              "    .dataframe tbody tr th:only-of-type {\n",
              "        vertical-align: middle;\n",
              "    }\n",
              "\n",
              "    .dataframe tbody tr th {\n",
              "        vertical-align: top;\n",
              "    }\n",
              "\n",
              "    .dataframe thead th {\n",
              "        text-align: right;\n",
              "    }\n",
              "</style>\n",
              "<table border=\"1\" class=\"dataframe\">\n",
              "  <thead>\n",
              "    <tr style=\"text-align: right;\">\n",
              "      <th></th>\n",
              "      <th>var0</th>\n",
              "      <th>var1</th>\n",
              "      <th>var2</th>\n",
              "      <th>var3</th>\n",
              "      <th>var4</th>\n",
              "      <th>var5</th>\n",
              "      <th>var6</th>\n",
              "      <th>var7</th>\n",
              "      <th>var8</th>\n",
              "      <th>var9</th>\n",
              "      <th>...</th>\n",
              "      <th>var11</th>\n",
              "      <th>var12</th>\n",
              "      <th>var13</th>\n",
              "      <th>var14</th>\n",
              "      <th>var15</th>\n",
              "      <th>var16</th>\n",
              "      <th>var17</th>\n",
              "      <th>var18</th>\n",
              "      <th>var19</th>\n",
              "      <th>target</th>\n",
              "    </tr>\n",
              "  </thead>\n",
              "  <tbody>\n",
              "    <tr>\n",
              "      <th>0</th>\n",
              "      <td>-2.882513</td>\n",
              "      <td>-3.272465</td>\n",
              "      <td>-2.520732</td>\n",
              "      <td>-1.987174</td>\n",
              "      <td>-2.073689</td>\n",
              "      <td>-3.272465</td>\n",
              "      <td>-1.237969</td>\n",
              "      <td>1.690547</td>\n",
              "      <td>-0.211314</td>\n",
              "      <td>-5.753190</td>\n",
              "      <td>...</td>\n",
              "      <td>-0.574979</td>\n",
              "      <td>-1.916275</td>\n",
              "      <td>-5.994075</td>\n",
              "      <td>-3.349615</td>\n",
              "      <td>-0.846193</td>\n",
              "      <td>2.491347</td>\n",
              "      <td>1.360958</td>\n",
              "      <td>-2.892522</td>\n",
              "      <td>-1.377561</td>\n",
              "      <td>0.0</td>\n",
              "    </tr>\n",
              "    <tr>\n",
              "      <th>1</th>\n",
              "      <td>0.775242</td>\n",
              "      <td>-1.015994</td>\n",
              "      <td>0.005137</td>\n",
              "      <td>0.057274</td>\n",
              "      <td>0.590205</td>\n",
              "      <td>-1.015994</td>\n",
              "      <td>1.350954</td>\n",
              "      <td>-1.493037</td>\n",
              "      <td>-0.862391</td>\n",
              "      <td>-1.986047</td>\n",
              "      <td>...</td>\n",
              "      <td>0.523760</td>\n",
              "      <td>0.399579</td>\n",
              "      <td>0.088600</td>\n",
              "      <td>0.718606</td>\n",
              "      <td>-1.112030</td>\n",
              "      <td>0.083929</td>\n",
              "      <td>0.606544</td>\n",
              "      <td>-1.376793</td>\n",
              "      <td>1.302641</td>\n",
              "      <td>2.0</td>\n",
              "    </tr>\n",
              "    <tr>\n",
              "      <th>2</th>\n",
              "      <td>-0.876376</td>\n",
              "      <td>0.220453</td>\n",
              "      <td>3.114224</td>\n",
              "      <td>-1.640025</td>\n",
              "      <td>1.180348</td>\n",
              "      <td>0.220453</td>\n",
              "      <td>0.465102</td>\n",
              "      <td>0.222511</td>\n",
              "      <td>0.880455</td>\n",
              "      <td>2.922315</td>\n",
              "      <td>...</td>\n",
              "      <td>-0.370516</td>\n",
              "      <td>3.585262</td>\n",
              "      <td>-2.168162</td>\n",
              "      <td>2.693429</td>\n",
              "      <td>-0.966636</td>\n",
              "      <td>1.586302</td>\n",
              "      <td>-2.821546</td>\n",
              "      <td>0.482164</td>\n",
              "      <td>0.187404</td>\n",
              "      <td>0.0</td>\n",
              "    </tr>\n",
              "    <tr>\n",
              "      <th>3</th>\n",
              "      <td>-2.550342</td>\n",
              "      <td>-1.968144</td>\n",
              "      <td>0.077681</td>\n",
              "      <td>-1.887719</td>\n",
              "      <td>1.864445</td>\n",
              "      <td>-1.968144</td>\n",
              "      <td>-0.527958</td>\n",
              "      <td>-0.201467</td>\n",
              "      <td>-0.532649</td>\n",
              "      <td>2.287445</td>\n",
              "      <td>...</td>\n",
              "      <td>-0.041341</td>\n",
              "      <td>2.383582</td>\n",
              "      <td>-0.417253</td>\n",
              "      <td>1.305379</td>\n",
              "      <td>-0.435123</td>\n",
              "      <td>-0.468557</td>\n",
              "      <td>0.923290</td>\n",
              "      <td>3.880050</td>\n",
              "      <td>2.676798</td>\n",
              "      <td>1.0</td>\n",
              "    </tr>\n",
              "    <tr>\n",
              "      <th>4</th>\n",
              "      <td>-0.454974</td>\n",
              "      <td>1.293300</td>\n",
              "      <td>0.112201</td>\n",
              "      <td>-0.589989</td>\n",
              "      <td>-1.674321</td>\n",
              "      <td>1.293300</td>\n",
              "      <td>0.487302</td>\n",
              "      <td>1.776318</td>\n",
              "      <td>0.702520</td>\n",
              "      <td>-1.024127</td>\n",
              "      <td>...</td>\n",
              "      <td>-0.452869</td>\n",
              "      <td>-0.667306</td>\n",
              "      <td>0.345364</td>\n",
              "      <td>-3.920591</td>\n",
              "      <td>-0.438296</td>\n",
              "      <td>-1.690141</td>\n",
              "      <td>0.176906</td>\n",
              "      <td>1.920142</td>\n",
              "      <td>1.474634</td>\n",
              "      <td>0.0</td>\n",
              "    </tr>\n",
              "  </tbody>\n",
              "</table>\n",
              "<p>5 rows × 21 columns</p>\n",
              "</div>\n",
              "    <div class=\"colab-df-buttons\">\n",
              "\n",
              "  <div class=\"colab-df-container\">\n",
              "    <button class=\"colab-df-convert\" onclick=\"convertToInteractive('df-9085c1bb-87f3-4496-aa5a-40145f95408a')\"\n",
              "            title=\"Convert this dataframe to an interactive table.\"\n",
              "            style=\"display:none;\">\n",
              "\n",
              "  <svg xmlns=\"http://www.w3.org/2000/svg\" height=\"24px\" viewBox=\"0 -960 960 960\">\n",
              "    <path d=\"M120-120v-720h720v720H120Zm60-500h600v-160H180v160Zm220 220h160v-160H400v160Zm0 220h160v-160H400v160ZM180-400h160v-160H180v160Zm440 0h160v-160H620v160ZM180-180h160v-160H180v160Zm440 0h160v-160H620v160Z\"/>\n",
              "  </svg>\n",
              "    </button>\n",
              "\n",
              "  <style>\n",
              "    .colab-df-container {\n",
              "      display:flex;\n",
              "      gap: 12px;\n",
              "    }\n",
              "\n",
              "    .colab-df-convert {\n",
              "      background-color: #E8F0FE;\n",
              "      border: none;\n",
              "      border-radius: 50%;\n",
              "      cursor: pointer;\n",
              "      display: none;\n",
              "      fill: #1967D2;\n",
              "      height: 32px;\n",
              "      padding: 0 0 0 0;\n",
              "      width: 32px;\n",
              "    }\n",
              "\n",
              "    .colab-df-convert:hover {\n",
              "      background-color: #E2EBFA;\n",
              "      box-shadow: 0px 1px 2px rgba(60, 64, 67, 0.3), 0px 1px 3px 1px rgba(60, 64, 67, 0.15);\n",
              "      fill: #174EA6;\n",
              "    }\n",
              "\n",
              "    .colab-df-buttons div {\n",
              "      margin-bottom: 4px;\n",
              "    }\n",
              "\n",
              "    [theme=dark] .colab-df-convert {\n",
              "      background-color: #3B4455;\n",
              "      fill: #D2E3FC;\n",
              "    }\n",
              "\n",
              "    [theme=dark] .colab-df-convert:hover {\n",
              "      background-color: #434B5C;\n",
              "      box-shadow: 0px 1px 3px 1px rgba(0, 0, 0, 0.15);\n",
              "      filter: drop-shadow(0px 1px 2px rgba(0, 0, 0, 0.3));\n",
              "      fill: #FFFFFF;\n",
              "    }\n",
              "  </style>\n",
              "\n",
              "    <script>\n",
              "      const buttonEl =\n",
              "        document.querySelector('#df-9085c1bb-87f3-4496-aa5a-40145f95408a button.colab-df-convert');\n",
              "      buttonEl.style.display =\n",
              "        google.colab.kernel.accessAllowed ? 'block' : 'none';\n",
              "\n",
              "      async function convertToInteractive(key) {\n",
              "        const element = document.querySelector('#df-9085c1bb-87f3-4496-aa5a-40145f95408a');\n",
              "        const dataTable =\n",
              "          await google.colab.kernel.invokeFunction('convertToInteractive',\n",
              "                                                    [key], {});\n",
              "        if (!dataTable) return;\n",
              "\n",
              "        const docLinkHtml = 'Like what you see? Visit the ' +\n",
              "          '<a target=\"_blank\" href=https://colab.research.google.com/notebooks/data_table.ipynb>data table notebook</a>'\n",
              "          + ' to learn more about interactive tables.';\n",
              "        element.innerHTML = '';\n",
              "        dataTable['output_type'] = 'display_data';\n",
              "        await google.colab.output.renderOutput(dataTable, element);\n",
              "        const docLink = document.createElement('div');\n",
              "        docLink.innerHTML = docLinkHtml;\n",
              "        element.appendChild(docLink);\n",
              "      }\n",
              "    </script>\n",
              "  </div>\n",
              "\n",
              "\n",
              "<div id=\"df-1f1997fd-0f56-49de-b349-a37af2be5c4e\">\n",
              "  <button class=\"colab-df-quickchart\" onclick=\"quickchart('df-1f1997fd-0f56-49de-b349-a37af2be5c4e')\"\n",
              "            title=\"Suggest charts\"\n",
              "            style=\"display:none;\">\n",
              "\n",
              "<svg xmlns=\"http://www.w3.org/2000/svg\" height=\"24px\"viewBox=\"0 0 24 24\"\n",
              "     width=\"24px\">\n",
              "    <g>\n",
              "        <path d=\"M19 3H5c-1.1 0-2 .9-2 2v14c0 1.1.9 2 2 2h14c1.1 0 2-.9 2-2V5c0-1.1-.9-2-2-2zM9 17H7v-7h2v7zm4 0h-2V7h2v10zm4 0h-2v-4h2v4z\"/>\n",
              "    </g>\n",
              "</svg>\n",
              "  </button>\n",
              "\n",
              "<style>\n",
              "  .colab-df-quickchart {\n",
              "      --bg-color: #E8F0FE;\n",
              "      --fill-color: #1967D2;\n",
              "      --hover-bg-color: #E2EBFA;\n",
              "      --hover-fill-color: #174EA6;\n",
              "      --disabled-fill-color: #AAA;\n",
              "      --disabled-bg-color: #DDD;\n",
              "  }\n",
              "\n",
              "  [theme=dark] .colab-df-quickchart {\n",
              "      --bg-color: #3B4455;\n",
              "      --fill-color: #D2E3FC;\n",
              "      --hover-bg-color: #434B5C;\n",
              "      --hover-fill-color: #FFFFFF;\n",
              "      --disabled-bg-color: #3B4455;\n",
              "      --disabled-fill-color: #666;\n",
              "  }\n",
              "\n",
              "  .colab-df-quickchart {\n",
              "    background-color: var(--bg-color);\n",
              "    border: none;\n",
              "    border-radius: 50%;\n",
              "    cursor: pointer;\n",
              "    display: none;\n",
              "    fill: var(--fill-color);\n",
              "    height: 32px;\n",
              "    padding: 0;\n",
              "    width: 32px;\n",
              "  }\n",
              "\n",
              "  .colab-df-quickchart:hover {\n",
              "    background-color: var(--hover-bg-color);\n",
              "    box-shadow: 0 1px 2px rgba(60, 64, 67, 0.3), 0 1px 3px 1px rgba(60, 64, 67, 0.15);\n",
              "    fill: var(--button-hover-fill-color);\n",
              "  }\n",
              "\n",
              "  .colab-df-quickchart-complete:disabled,\n",
              "  .colab-df-quickchart-complete:disabled:hover {\n",
              "    background-color: var(--disabled-bg-color);\n",
              "    fill: var(--disabled-fill-color);\n",
              "    box-shadow: none;\n",
              "  }\n",
              "\n",
              "  .colab-df-spinner {\n",
              "    border: 2px solid var(--fill-color);\n",
              "    border-color: transparent;\n",
              "    border-bottom-color: var(--fill-color);\n",
              "    animation:\n",
              "      spin 1s steps(1) infinite;\n",
              "  }\n",
              "\n",
              "  @keyframes spin {\n",
              "    0% {\n",
              "      border-color: transparent;\n",
              "      border-bottom-color: var(--fill-color);\n",
              "      border-left-color: var(--fill-color);\n",
              "    }\n",
              "    20% {\n",
              "      border-color: transparent;\n",
              "      border-left-color: var(--fill-color);\n",
              "      border-top-color: var(--fill-color);\n",
              "    }\n",
              "    30% {\n",
              "      border-color: transparent;\n",
              "      border-left-color: var(--fill-color);\n",
              "      border-top-color: var(--fill-color);\n",
              "      border-right-color: var(--fill-color);\n",
              "    }\n",
              "    40% {\n",
              "      border-color: transparent;\n",
              "      border-right-color: var(--fill-color);\n",
              "      border-top-color: var(--fill-color);\n",
              "    }\n",
              "    60% {\n",
              "      border-color: transparent;\n",
              "      border-right-color: var(--fill-color);\n",
              "    }\n",
              "    80% {\n",
              "      border-color: transparent;\n",
              "      border-right-color: var(--fill-color);\n",
              "      border-bottom-color: var(--fill-color);\n",
              "    }\n",
              "    90% {\n",
              "      border-color: transparent;\n",
              "      border-bottom-color: var(--fill-color);\n",
              "    }\n",
              "  }\n",
              "</style>\n",
              "\n",
              "  <script>\n",
              "    async function quickchart(key) {\n",
              "      const quickchartButtonEl =\n",
              "        document.querySelector('#' + key + ' button');\n",
              "      quickchartButtonEl.disabled = true;  // To prevent multiple clicks.\n",
              "      quickchartButtonEl.classList.add('colab-df-spinner');\n",
              "      try {\n",
              "        const charts = await google.colab.kernel.invokeFunction(\n",
              "            'suggestCharts', [key], {});\n",
              "      } catch (error) {\n",
              "        console.error('Error during call to suggestCharts:', error);\n",
              "      }\n",
              "      quickchartButtonEl.classList.remove('colab-df-spinner');\n",
              "      quickchartButtonEl.classList.add('colab-df-quickchart-complete');\n",
              "    }\n",
              "    (() => {\n",
              "      let quickchartButtonEl =\n",
              "        document.querySelector('#df-1f1997fd-0f56-49de-b349-a37af2be5c4e button');\n",
              "      quickchartButtonEl.style.display =\n",
              "        google.colab.kernel.accessAllowed ? 'block' : 'none';\n",
              "    })();\n",
              "  </script>\n",
              "</div>\n",
              "\n",
              "    </div>\n",
              "  </div>\n"
            ],
            "application/vnd.google.colaboratory.intrinsic+json": {
              "type": "dataframe",
              "variable_name": "df"
            }
          },
          "metadata": {},
          "execution_count": 4
        }
      ],
      "source": [
        "df.head()"
      ]
    },
    {
      "cell_type": "code",
      "execution_count": 5,
      "metadata": {
        "id": "4ZVxcA91bt-u",
        "outputId": "4a03f74c-e1ba-4710-8c99-df8d1752986a",
        "colab": {
          "base_uri": "https://localhost:8080/"
        }
      },
      "outputs": [
        {
          "output_type": "stream",
          "name": "stdout",
          "text": [
            "<class 'pandas.core.frame.DataFrame'>\n",
            "RangeIndex: 1500 entries, 0 to 1499\n",
            "Data columns (total 21 columns):\n",
            " #   Column  Non-Null Count  Dtype  \n",
            "---  ------  --------------  -----  \n",
            " 0   var0    1500 non-null   float64\n",
            " 1   var1    1500 non-null   float64\n",
            " 2   var2    1500 non-null   float64\n",
            " 3   var3    1500 non-null   float64\n",
            " 4   var4    1500 non-null   float64\n",
            " 5   var5    1500 non-null   float64\n",
            " 6   var6    1500 non-null   float64\n",
            " 7   var7    1500 non-null   float64\n",
            " 8   var8    1500 non-null   float64\n",
            " 9   var9    1500 non-null   float64\n",
            " 10  var10   1500 non-null   float64\n",
            " 11  var11   1500 non-null   float64\n",
            " 12  var12   1500 non-null   float64\n",
            " 13  var13   1500 non-null   float64\n",
            " 14  var14   1500 non-null   float64\n",
            " 15  var15   1500 non-null   float64\n",
            " 16  var16   1500 non-null   float64\n",
            " 17  var17   1500 non-null   float64\n",
            " 18  var18   1500 non-null   float64\n",
            " 19  var19   1500 non-null   float64\n",
            " 20  target  1500 non-null   float64\n",
            "dtypes: float64(21)\n",
            "memory usage: 246.2 KB\n"
          ]
        }
      ],
      "source": [
        "df.info()"
      ]
    },
    {
      "cell_type": "code",
      "execution_count": 6,
      "metadata": {
        "id": "SK5Wc76Lbt-u",
        "outputId": "d2633c7d-757d-4d52-edc8-e1d40a4ea391",
        "colab": {
          "base_uri": "https://localhost:8080/"
        }
      },
      "outputs": [
        {
          "output_type": "stream",
          "name": "stdout",
          "text": [
            "Training samples: 1,200\n",
            "Test samples: 300\n",
            "\n",
            "Features:\n",
            "var0\tvar1\tvar2\tvar3\tvar4\tvar5\tvar6\tvar7\tvar8\tvar9\tvar10\tvar11\tvar12\tvar13\tvar14\tvar15\tvar16\tvar17\tvar18\tvar19\n"
          ]
        }
      ],
      "source": [
        "from sklearn.model_selection import train_test_split\n",
        "\n",
        "X = df[[x for x in df.columns if x.startswith('var')]]\n",
        "y = df['target']\n",
        "\n",
        "X_train, X_test, y_training, y_test = train_test_split(X, y, test_size=0.2, random_state=123)\n",
        "\n",
        "print(f'Training samples: {X_train.shape[0]:,}')\n",
        "print(f'Test samples: {X_test.shape[0]:,}')\n",
        "\n",
        "print('\\nFeatures:')\n",
        "print(*X_train, sep='\\t')"
      ]
    },
    {
      "cell_type": "markdown",
      "metadata": {
        "id": "nb7BO0rFbt-v"
      },
      "source": [
        "### Data Description\n",
        "- `var1 - var19`: a feature for the data.  \n",
        "- `target`: variable we wish to be able to predict, which is 1 of 3 classes."
      ]
    },
    {
      "cell_type": "markdown",
      "metadata": {
        "id": "l1_DvnIlbt-v"
      },
      "source": [
        "# Question 1\n",
        "- Use principle components analysis to determine the number of components to reduce the data to by evaluating the explained variance ratio (use `X_train`).  \n",
        "- Remember to scale the data first.  \n",
        "- What number of components would you recommend based on your analysis?  \n",
        "- Explain your results using markdown cells."
      ]
    },
    {
      "cell_type": "code",
      "execution_count": 8,
      "metadata": {
        "id": "JevRULr2bt-v",
        "outputId": "231a66fe-9287-4413-d36d-28b51e645545",
        "colab": {
          "base_uri": "https://localhost:8080/",
          "height": 564
        }
      },
      "outputs": [
        {
          "output_type": "display_data",
          "data": {
            "text/plain": [
              "<Figure size 1000x600 with 1 Axes>"
            ],
            "image/png": "[encoded data removed]"
          },
          "metadata": {}
        }
      ],
      "source": [
        "# insert code here\n",
        "from sklearn.datasets import make_classification\n",
        "from sklearn.model_selection import train_test_split\n",
        "from sklearn.preprocessing import StandardScaler\n",
        "from sklearn.decomposition import PCA\n",
        "# Split into features and target\n",
        "X = df[[x for x in df.columns if x.startswith('var')]]\n",
        "y = df['target']\n",
        "\n",
        "# Split into training and testing sets\n",
        "X_train, X_test, y_train, y_test = train_test_split(X, y, test_size=0.2, random_state=123)\n",
        "\n",
        "# Scale the data\n",
        "scaler = StandardScaler()\n",
        "X_train_scaled = scaler.fit_transform(X_train)\n",
        "\n",
        "# Perform PCA\n",
        "pca = PCA()\n",
        "pca.fit(X_train_scaled)\n",
        "\n",
        "# Plot explained variance ratio\n",
        "plt.figure(figsize=(10, 6))\n",
        "plt.plot(np.cumsum(pca.explained_variance_ratio_))\n",
        "plt.xlabel('Number of Components')\n",
        "plt.ylabel('Cumulative Explained Variance')\n",
        "plt.title('Explained Variance Ratio by Number of Components')\n",
        "plt.grid(True)\n",
        "plt.show()\n"
      ]
    },
    {
      "cell_type": "markdown",
      "metadata": {
        "id": "sx0HEzwebt-v"
      },
      "source": [
        "> Describe your results here\n",
        "\n",
        "From the plot, it appears that around 12 components explain the majority of the variance in the data while additional components contribute minimally to the total explained variance. Therefore, I would recommend reducing the data to approximately 12 components based on this analysis.\n",
        "\n",
        "Reducing the data to 12 components would retain most of the information while reducing the dimensionality significantly, which can lead to simpler and more interpretable models with potentially improved generalization performance.\n",
        "\n",
        "\n",
        "\n",
        "\n",
        "\n",
        "\n"
      ]
    },
    {
      "cell_type": "markdown",
      "metadata": {
        "id": "bGguYO-nbt-w"
      },
      "source": [
        "<Insert comments>"
      ]
    },
    {
      "cell_type": "markdown",
      "metadata": {
        "id": "wCuMpb3dbt-w"
      },
      "source": [
        "# Question 2\n",
        "- Evaluate the target variable in the `df` object.  \n",
        "- Which metric would you use in evaluating a predictive model. Explain your choice in the markdown cell."
      ]
    },
    {
      "cell_type": "code",
      "execution_count": 11,
      "metadata": {
        "id": "id0bG5Jhbt-w",
        "outputId": "e8d65fa5-6f55-4756-9e2c-6b59f7f17468",
        "colab": {
          "base_uri": "https://localhost:8080/"
        }
      },
      "outputs": [
        {
          "output_type": "stream",
          "name": "stdout",
          "text": [
            "Accuracy: 0.8133333333333334\n"
          ]
        },
        {
          "output_type": "stream",
          "name": "stderr",
          "text": [
            "/usr/local/lib/python3.10/dist-packages/sklearn/base.py:432: UserWarning: X has feature names, but RandomForestClassifier was fitted without feature names\n",
            "  warnings.warn(\n"
          ]
        }
      ],
      "source": [
        "# Insert code here\n",
        "\n",
        "from sklearn.ensemble import RandomForestClassifier\n",
        "from sklearn.metrics import accuracy_score\n",
        "\n",
        "\n",
        "clf = RandomForestClassifier(random_state=42)\n",
        "clf.fit(X_train_scaled, y_train)\n",
        "\n",
        "y_pred = clf.predict(X_test)\n",
        "\n",
        "accuracy = accuracy_score(y_test, y_pred)\n",
        "print(\"Accuracy:\", accuracy)\n",
        "\n",
        "\n"
      ]
    },
    {
      "cell_type": "markdown",
      "metadata": {
        "id": "-bGNAPQxbt-w"
      },
      "source": [
        "> Describe your results here\n",
        "\n",
        "I would use accuracy, and it is about 81%"
      ]
    },
    {
      "cell_type": "markdown",
      "metadata": {
        "id": "ZeUWyY3hbt-w"
      },
      "source": [
        "# Question 3\n",
        "- Without using PCA, create a logistic regression model using practices discussed in class.  \n",
        "- Which model would you choose? Explain your results in the markdown cells.    \n",
        "- What is the accuracy, precision, and recall for the test data?  "
      ]
    },
    {
      "cell_type": "code",
      "execution_count": 13,
      "metadata": {
        "id": "yggbusGUbt-x",
        "outputId": "ab06abac-c1db-404f-d2e6-0117758fc629",
        "colab": {
          "base_uri": "https://localhost:8080/"
        }
      },
      "outputs": [
        {
          "output_type": "stream",
          "name": "stdout",
          "text": [
            "Accuracy: 0.7033333333333334\n",
            "Precision: 0.7040254342431762\n",
            "Recall: 0.7033333333333334\n"
          ]
        }
      ],
      "source": [
        "# Insert code here\n",
        "\n",
        "from sklearn.linear_model import LogisticRegression\n",
        "from sklearn.metrics import accuracy_score, precision_score, recall_score\n",
        "\n",
        "# Standardize the features\n",
        "scaler = StandardScaler()\n",
        "X_train_scaled = scaler.fit_transform(X_train)\n",
        "X_test_scaled = scaler.transform(X_test)\n",
        "\n",
        "clf = LogisticRegression(random_state=42, max_iter=1000)\n",
        "clf.fit(X_train_scaled, y_train)\n",
        "\n",
        "\n",
        "y_pred = clf.predict(X_test_scaled)\n",
        "\n",
        "accuracy = accuracy_score(y_test, y_pred)\n",
        "precision = precision_score(y_test, y_pred, average='weighted')\n",
        "recall = recall_score(y_test, y_pred, average='weighted')\n",
        "\n",
        "print(\"Accuracy:\", accuracy)\n",
        "print(\"Precision:\", precision)\n",
        "print(\"Recall:\", recall)\n"
      ]
    },
    {
      "cell_type": "markdown",
      "metadata": {
        "id": "lz90Da92bt-x"
      },
      "source": [
        "> Describe results here\n",
        "\n",
        "\n",
        "Based on the results, the metrics are decent and the logistic model can be used for evaluation."
      ]
    },
    {
      "cell_type": "markdown",
      "metadata": {
        "id": "sFptuojGbt-x"
      },
      "source": [
        "# Question 4\n",
        "- Use PCA within a pipeline to create a logistic regression model using best practices from class.  \n",
        "- Which model performs the best on the training data? Explain your results in markdown cells.  \n",
        "- What is the accuracy, precision, and recall for the test data?\n",
        "- Does this perform better than the original logistic regression model?"
      ]
    },
    {
      "cell_type": "code",
      "execution_count": 15,
      "metadata": {
        "id": "m5TnR9qwbt-y",
        "outputId": "7c400555-0738-4647-fcff-7eae3f7ee4a7",
        "colab": {
          "base_uri": "https://localhost:8080/"
        }
      },
      "outputs": [
        {
          "output_type": "stream",
          "name": "stdout",
          "text": [
            "Accuracy: 0.69\n",
            "Precision: 0.6872885414018138\n",
            "Recall: 0.69\n"
          ]
        }
      ],
      "source": [
        "# Insert code\n",
        "from sklearn.decomposition import PCA\n",
        "from sklearn.pipeline import Pipeline\n",
        "\n",
        "# Define the pipeline with PCA and Logistic Regression\n",
        "pipeline = Pipeline([\n",
        "    ('scaler', StandardScaler()),\n",
        "    ('pca', PCA(n_components=10)),\n",
        "    ('classifier', LogisticRegression(random_state=42, max_iter=1000))\n",
        "])\n",
        "\n",
        "\n",
        "pipeline.fit(X_train, y_train)\n",
        "\n",
        "y_pred = pipeline.predict(X_test)\n",
        "\n",
        "accuracy = accuracy_score(y_test, y_pred)\n",
        "precision = precision_score(y_test, y_pred, average='weighted')\n",
        "recall = recall_score(y_test, y_pred, average='weighted')\n",
        "\n",
        "print(\"Accuracy:\", accuracy)\n",
        "print(\"Precision:\", precision)\n",
        "print(\"Recall:\", recall)"
      ]
    },
    {
      "cell_type": "markdown",
      "metadata": {
        "id": "YWJO3Atxbt-y"
      },
      "source": [
        "> Describe your results here\n",
        "\n",
        "In this case, the results are better without using the pipeline for logistic regression.\n"
      ]
    },
    {
      "cell_type": "markdown",
      "metadata": {
        "id": "08QyxdpUbt-y"
      },
      "source": [
        "# Question 5"
      ]
    },
    {
      "cell_type": "markdown",
      "metadata": {
        "id": "PPdroa6Abt-y"
      },
      "source": [
        "- Without using PCA, create a decision tree model using best practices discussed in class.  \n",
        "- Which model performs the best on the training data? Explain your results in the markdown cells.  \n",
        "- What is the accuracy, precision, and recall for the test data?  \n",
        "- Does this perform better than either of the logistic regression models?"
      ]
    },
    {
      "cell_type": "code",
      "execution_count": 16,
      "metadata": {
        "id": "o1WqXXElbt-z",
        "outputId": "f190c0de-b9b0-4bdb-d929-bdd4e35edb5d",
        "colab": {
          "base_uri": "https://localhost:8080/"
        }
      },
      "outputs": [
        {
          "output_type": "stream",
          "name": "stdout",
          "text": [
            "Accuracy: 0.6766666666666666\n",
            "Precision: 0.6888600951338245\n",
            "Recall: 0.6766666666666666\n"
          ]
        }
      ],
      "source": [
        "# Insert code here\n",
        "\n",
        "from sklearn.tree import DecisionTreeClassifier\n",
        "\n",
        "clf = DecisionTreeClassifier(random_state=42)\n",
        "clf.fit(X_train_scaled, y_train)\n",
        "\n",
        "\n",
        "y_pred = clf.predict(X_test_scaled)\n",
        "\n",
        "\n",
        "accuracy = accuracy_score(y_test, y_pred)\n",
        "precision = precision_score(y_test, y_pred, average='weighted')\n",
        "recall = recall_score(y_test, y_pred, average='weighted')\n",
        "\n",
        "print(\"Accuracy:\", accuracy)\n",
        "print(\"Precision:\", precision)\n",
        "print(\"Recall:\", recall)"
      ]
    },
    {
      "cell_type": "markdown",
      "metadata": {
        "id": "bYeDcnXqbt-z"
      },
      "source": [
        "> Describe your results here.\n",
        "\n",
        "The decision tree model has slightly low accuracy than the two logistic regression models, so I would still recommend the original logistic regression model."
      ]
    },
    {
      "cell_type": "markdown",
      "metadata": {
        "id": "BoKV3mPEbt-z"
      },
      "source": [
        "# Question 6\n",
        "- Repeat `Question 5` but use PCA.  \n",
        "- Does this perform better than the original Decision Tree or the logistic regression models?"
      ]
    },
    {
      "cell_type": "code",
      "execution_count": 17,
      "metadata": {
        "id": "bywva4vhbt-z",
        "outputId": "dd291aa6-683c-4190-d05e-e13b53f07fea",
        "colab": {
          "base_uri": "https://localhost:8080/"
        }
      },
      "outputs": [
        {
          "output_type": "stream",
          "name": "stdout",
          "text": [
            "Accuracy: 0.6266666666666667\n",
            "Precision: 0.633530103965741\n",
            "Recall: 0.6266666666666667\n"
          ]
        }
      ],
      "source": [
        "# Insert code here\n",
        "\n",
        "# Define the pipeline with PCA and Decision Tree\n",
        "pipeline = Pipeline([\n",
        "    ('scaler', StandardScaler()),\n",
        "    ('pca', PCA(n_components=10)),  # Setting the number of components based on previous analysis\n",
        "    ('classifier', DecisionTreeClassifier(random_state=42))\n",
        "])\n",
        "\n",
        "pipeline.fit(X_train, y_train)\n",
        "\n",
        "y_pred = pipeline.predict(X_test)\n",
        "\n",
        "accuracy = accuracy_score(y_test, y_pred)\n",
        "precision = precision_score(y_test, y_pred, average='weighted')\n",
        "recall = recall_score(y_test, y_pred, average='weighted')\n",
        "\n",
        "print(\"Accuracy:\", accuracy)\n",
        "print(\"Precision:\", precision)\n",
        "print(\"Recall:\", recall)"
      ]
    },
    {
      "cell_type": "markdown",
      "metadata": {
        "id": "rB3Xdlvybt-0"
      },
      "source": [
        "> Describe results here\n",
        "\n",
        "Decision trees with PCA has the lowest accuracy amongst the other models.\n",
        "I think it is not a good fit for this data generated. The original logistic regression method is recommended for this data."
      ]
    },
    {
      "cell_type": "code",
      "execution_count": null,
      "metadata": {
        "id": "VEDRDP6Nbt-0"
      },
      "outputs": [],
      "source": []
    }
  ],
  "metadata": {
    "kernelspec": {
      "display_name": "Python 3 (ipykernel)",
      "language": "python",
      "name": "python3"
    },
    "language_info": {
      "codemirror_mode": {
        "name": "ipython",
        "version": 3
      },
      "file_extension": ".py",
      "mimetype": "text/x-python",
      "name": "python",
      "nbconvert_exporter": "python",
      "pygments_lexer": "ipython3",
      "version": "3.10.9"
    },
    "toc": {
      "base_numbering": 1,
      "nav_menu": {},
      "number_sections": true,
      "sideBar": true,
      "skip_h1_title": false,
      "title_cell": "Table of Contents",
      "title_sidebar": "Contents",
      "toc_cell": false,
      "toc_position": {},
      "toc_section_display": true,
      "toc_window_display": false
    },
    "colab": {
      "provenance": []
    }
  },
  "nbformat": 4,
  "nbformat_minor": 0
}