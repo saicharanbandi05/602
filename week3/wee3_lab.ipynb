{
  "cells": [
    {
      "cell_type": "markdown",
      "id": "57771d6f",
      "metadata": {
        "id": "57771d6f"
      },
      "source": [
        "# Week 3 - Lab"
      ]
    },
    {
      "cell_type": "markdown",
      "id": "ccb647fd",
      "metadata": {
        "id": "ccb647fd"
      },
      "source": [
        "## Part1:\n",
        "#### Explain briefly (1-2 sentences)"
      ]
    },
    {
      "cell_type": "markdown",
      "id": "1d4ce05f",
      "metadata": {
        "id": "1d4ce05f"
      },
      "source": [
        "1. Differences between supervised and unsupervised learning?  \n"
      ]
    },
    {
      "cell_type": "markdown",
      "id": "03e12e71",
      "metadata": {
        "id": "03e12e71"
      },
      "source": [
        "[link text](https://)Your answer:supervised learning used labelling training data whereas unsupervised learning does not use labelled training data"
      ]
    },
    {
      "cell_type": "markdown",
      "id": "ff70d958",
      "metadata": {
        "id": "ff70d958"
      },
      "source": [
        "2. Differences between classification and regression?  "
      ]
    },
    {
      "cell_type": "code",
      "source": [
        "regression is used to identify continious values whereas classification is used to identify district values."
      ],
      "metadata": {
        "id": "NUjGU4A00RHP"
      },
      "id": "NUjGU4A00RHP",
      "execution_count": null,
      "outputs": []
    },
    {
      "cell_type": "markdown",
      "id": "8a7b813d",
      "metadata": {
        "id": "8a7b813d"
      },
      "source": [
        "Your answer"
      ]
    },
    {
      "cell_type": "markdown",
      "id": "d99b1c51",
      "metadata": {
        "id": "d99b1c51"
      },
      "source": [
        "3. Classification and regression are the only types of supervised learning?"
      ]
    },
    {
      "cell_type": "markdown",
      "id": "dc69142e",
      "metadata": {
        "id": "dc69142e"
      },
      "source": [
        "both classification and regression are the only two types of supervised learning"
      ]
    },
    {
      "cell_type": "markdown",
      "id": "2dddc898",
      "metadata": {
        "id": "2dddc898"
      },
      "source": [
        "## Part2\n",
        "\n",
        "#### Write a rule based predictor.\n",
        "Do your EDA and complete `predict_one` function below.\n",
        "Your model does not need to be perfect!\n",
        "\n",
        "* Don't use a machine learning model"
      ]
    },
    {
      "cell_type": "code",
      "execution_count": 1,
      "id": "76611fb3",
      "metadata": {
        "id": "76611fb3",
        "outputId": "71aae4eb-1491-49d3-8f78-35793a07adb6",
        "colab": {
          "base_uri": "https://localhost:8080/"
        }
      },
      "outputs": [
        {
          "output_type": "stream",
          "name": "stdout",
          "text": [
            "<class 'pandas.core.frame.DataFrame'>\n",
            "RangeIndex: 150 entries, 0 to 149\n",
            "Data columns (total 5 columns):\n",
            " #   Column        Non-Null Count  Dtype  \n",
            "---  ------        --------------  -----  \n",
            " 0   sepal_length  150 non-null    float64\n",
            " 1   sepal_width   150 non-null    float64\n",
            " 2   petal_length  150 non-null    float64\n",
            " 3   petal_width   150 non-null    float64\n",
            " 4   species       150 non-null    object \n",
            "dtypes: float64(4), object(1)\n",
            "memory usage: 6.0+ KB\n"
          ]
        }
      ],
      "source": [
        "import pandas as pd\n",
        "import numpy as np\n",
        "from matplotlib import pyplot as plt\n",
        "\n",
        "df = pd.read_csv('https://raw.githubusercontent.com/msaricaumbc/DS_data/master/ds602/iris.csv')\n",
        "df.info()"
      ]
    },
    {
      "cell_type": "code",
      "execution_count": 5,
      "id": "3939e20f",
      "metadata": {
        "id": "3939e20f",
        "outputId": "2d839bde-109e-48c8-dc15-5db4a4f00843",
        "colab": {
          "base_uri": "https://localhost:8080/"
        }
      },
      "outputs": [
        {
          "output_type": "execute_result",
          "data": {
            "text/plain": [
              "Iris-setosa        50\n",
              "Iris-versicolor    50\n",
              "Iris-virginica     50\n",
              "Name: species, dtype: int64"
            ]
          },
          "metadata": {},
          "execution_count": 5
        }
      ],
      "source": [
        "df.species.value_counts()"
      ]
    },
    {
      "cell_type": "code",
      "execution_count": 18,
      "id": "1187a50c",
      "metadata": {
        "id": "1187a50c"
      },
      "outputs": [],
      "source": [
        "def predict_one(sepal_length, sepal_width, petal_length, petal_width): # DON'T CHANGE THIS LINE\n",
        "    # your code\n",
        "    #def predict_one(sepal_length, sepal_width, petal_length, petal_width):\n",
        "    # Based on common characteristics of Iris species, we can define some rules for prediction\n",
        "    # This is a simplistic example and might not be highly accurate\n",
        "\n",
        "    # Rule 1: If petal width is less than 0.75, it's likely Iris-setosa\n",
        "    if petal_width < 0.75:\n",
        "        return 'Iris-setosa'\n",
        "\n",
        "    # Rule 2: If petal length is greater than 4.5, it's likely Iris-virginica\n",
        "    elif petal_length > 4.5:\n",
        "        return 'Iris-virginica'\n",
        "\n",
        "    # Rule 3: If petal width is less than 1.75 and petal length is less than 4.5, it's likely Iris-versicolor\n",
        "    elif petal_width < 1.75 and petal_length < 4.5:\n",
        "        return 'Iris-versicolor'\n",
        "\n",
        "    # If none of the conditions match, return a default prediction\n",
        "    else:\n",
        "        return 'Iris-setosa'  # Default prediction\n"
      ]
    },
    {
      "cell_type": "code",
      "execution_count": 19,
      "id": "567ee68e",
      "metadata": {
        "id": "567ee68e",
        "outputId": "c1c7ac93-47eb-4841-8890-9aa38c4b7eba",
        "colab": {
          "base_uri": "https://localhost:8080/"
        }
      },
      "outputs": [
        {
          "output_type": "stream",
          "name": "stdout",
          "text": [
            "Accuracy: 0.8533333333333334\n"
          ]
        }
      ],
      "source": [
        "## DO NOT MODIFY THIS CELL\n",
        "def show_accuracy():\n",
        "    predictions = pd.Series([ predict_one(sl, sw, pl, pw) for sl, sw, pl, pw in zip(df.sepal_length, df.sepal_width, df.petal_length, df.petal_width)])\n",
        "    accuracy = sum(df.species == predictions) / len(df)\n",
        "    print(f\"Accuracy: {accuracy}\")\n",
        "\n",
        "show_accuracy()"
      ]
    },
    {
      "cell_type": "code",
      "execution_count": null,
      "id": "a85e1005",
      "metadata": {
        "id": "a85e1005"
      },
      "outputs": [],
      "source": []
    }
  ],
  "metadata": {
    "kernelspec": {
      "display_name": "Python 3 (ipykernel)",
      "language": "python",
      "name": "python3"
    },
    "language_info": {
      "codemirror_mode": {
        "name": "ipython",
        "version": 3
      },
      "file_extension": ".py",
      "mimetype": "text/x-python",
      "name": "python",
      "nbconvert_exporter": "python",
      "pygments_lexer": "ipython3",
      "version": "3.10.9"
    },
    "toc": {
      "base_numbering": 1,
      "nav_menu": {},
      "number_sections": true,
      "sideBar": true,
      "skip_h1_title": false,
      "title_cell": "Table of Contents",
      "title_sidebar": "Contents",
      "toc_cell": false,
      "toc_position": {},
      "toc_section_display": true,
      "toc_window_display": false
    },
    "colab": {
      "provenance": []
    }
  },
  "nbformat": 4,
  "nbformat_minor": 5
}