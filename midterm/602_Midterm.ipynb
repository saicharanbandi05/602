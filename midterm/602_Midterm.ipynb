{
 "cells": [
  {
   "cell_type": "code",
   "execution_count": 50,
   "id": "620f7e79",
   "metadata": {},
   "outputs": [],
   "source": [
    "import pandas as pd\n",
    "import matplotlib.pyplot as plt\n",
    "%matplotlib inline\n",
    "import seaborn as sns\n",
    "from sklearn.model_selection import train_test_split\n",
    "from sklearn.pipeline import Pipeline\n",
    "from sklearn.preprocessing import StandardScaler, OneHotEncoder\n",
    "from sklearn.impute import SimpleImputer\n",
    "from sklearn.compose import ColumnTransformer\n",
    "from sklearn.model_selection import train_test_split\n",
    "from sklearn.linear_model import LogisticRegression\n",
    "from sklearn.metrics import accuracy_score\n",
    "from sklearn.tree import DecisionTreeClassifier\n",
    "from sklearn.ensemble import RandomForestClassifier\n",
    "from sklearn.model_selection import GridSearchCV\n"
   ]
  },
  {
   "cell_type": "code",
   "execution_count": null,
   "id": "bce390f7",
   "metadata": {},
   "outputs": [],
   "source": [
    "df = pd.read_csv(\"https://raw.githubusercontent.com/msaricaumbc/DS_data/master/ds602/midterm/employee_departure_dataset.csv\")"
   ]
  },
  {
   "cell_type": "code",
   "execution_count": 2,
   "id": "73d555a2",
   "metadata": {},
   "outputs": [
    {
     "data": {
      "text/html": [
       "<div>\n",
       "<style scoped>\n",
       "    .dataframe tbody tr th:only-of-type {\n",
       "        vertical-align: middle;\n",
       "    }\n",
       "\n",
       "    .dataframe tbody tr th {\n",
       "        vertical-align: top;\n",
       "    }\n",
       "\n",
       "    .dataframe thead th {\n",
       "        text-align: right;\n",
       "    }\n",
       "</style>\n",
       "<table border=\"1\" class=\"dataframe\">\n",
       "  <thead>\n",
       "    <tr style=\"text-align: right;\">\n",
       "      <th></th>\n",
       "      <th>Unnamed: 0</th>\n",
       "      <th>RecordId</th>\n",
       "      <th>Gender</th>\n",
       "      <th>Distance</th>\n",
       "      <th>YearsWorked</th>\n",
       "      <th>PreviousSalary</th>\n",
       "      <th>Salary</th>\n",
       "      <th>SelfReview</th>\n",
       "      <th>SupervisorReview</th>\n",
       "      <th>DepartmentCode</th>\n",
       "      <th>Left</th>\n",
       "    </tr>\n",
       "  </thead>\n",
       "  <tbody>\n",
       "    <tr>\n",
       "      <th>0</th>\n",
       "      <td>0</td>\n",
       "      <td>1002332</td>\n",
       "      <td>1</td>\n",
       "      <td>&gt;30miles</td>\n",
       "      <td>10</td>\n",
       "      <td>63K</td>\n",
       "      <td>65K</td>\n",
       "      <td>4.0</td>\n",
       "      <td>5.0</td>\n",
       "      <td>2</td>\n",
       "      <td>0</td>\n",
       "    </tr>\n",
       "    <tr>\n",
       "      <th>1</th>\n",
       "      <td>1</td>\n",
       "      <td>1002333</td>\n",
       "      <td>0</td>\n",
       "      <td>~10miles</td>\n",
       "      <td>7</td>\n",
       "      <td>54K</td>\n",
       "      <td>56K</td>\n",
       "      <td>4.0</td>\n",
       "      <td>4.0</td>\n",
       "      <td>2</td>\n",
       "      <td>0</td>\n",
       "    </tr>\n",
       "    <tr>\n",
       "      <th>2</th>\n",
       "      <td>2</td>\n",
       "      <td>1002334</td>\n",
       "      <td>0</td>\n",
       "      <td>&lt;5mile</td>\n",
       "      <td>5</td>\n",
       "      <td>60K</td>\n",
       "      <td>61K</td>\n",
       "      <td>4.0</td>\n",
       "      <td>4.0</td>\n",
       "      <td>3</td>\n",
       "      <td>0</td>\n",
       "    </tr>\n",
       "    <tr>\n",
       "      <th>3</th>\n",
       "      <td>3</td>\n",
       "      <td>1002335</td>\n",
       "      <td>0</td>\n",
       "      <td>~15miles</td>\n",
       "      <td>4</td>\n",
       "      <td>59K</td>\n",
       "      <td>60K</td>\n",
       "      <td>5.0</td>\n",
       "      <td>5.0</td>\n",
       "      <td>7</td>\n",
       "      <td>0</td>\n",
       "    </tr>\n",
       "    <tr>\n",
       "      <th>4</th>\n",
       "      <td>4</td>\n",
       "      <td>1002336</td>\n",
       "      <td>1</td>\n",
       "      <td>~20miles</td>\n",
       "      <td>6</td>\n",
       "      <td>61K</td>\n",
       "      <td>63K</td>\n",
       "      <td>5.0</td>\n",
       "      <td>5.0</td>\n",
       "      <td>5</td>\n",
       "      <td>0</td>\n",
       "    </tr>\n",
       "  </tbody>\n",
       "</table>\n",
       "</div>"
      ],
      "text/plain": [
       "   Unnamed: 0  RecordId  Gender  Distance  YearsWorked PreviousSalary Salary  \\\n",
       "0           0   1002332       1  >30miles           10            63K    65K   \n",
       "1           1   1002333       0  ~10miles            7            54K    56K   \n",
       "2           2   1002334       0    <5mile            5            60K    61K   \n",
       "3           3   1002335       0  ~15miles            4            59K    60K   \n",
       "4           4   1002336       1  ~20miles            6            61K    63K   \n",
       "\n",
       "   SelfReview  SupervisorReview  DepartmentCode  Left  \n",
       "0         4.0               5.0               2     0  \n",
       "1         4.0               4.0               2     0  \n",
       "2         4.0               4.0               3     0  \n",
       "3         5.0               5.0               7     0  \n",
       "4         5.0               5.0               5     0  "
      ]
     },
     "execution_count": 2,
     "metadata": {},
     "output_type": "execute_result"
    }
   ],
   "source": [
    "df.head()"
   ]
  },
  {
   "cell_type": "markdown",
   "id": "5c8f092c",
   "metadata": {},
   "source": [
    "we can see that the columns Unnamed and RecordId are unnecessary so we can drop them "
   ]
  },
  {
   "cell_type": "code",
   "execution_count": 3,
   "id": "0b568a89",
   "metadata": {},
   "outputs": [],
   "source": [
    "df = df.drop(columns=['Unnamed: 0', 'RecordId'])"
   ]
  },
  {
   "cell_type": "code",
   "execution_count": 4,
   "id": "0b0f08cd",
   "metadata": {},
   "outputs": [
    {
     "data": {
      "text/html": [
       "<div>\n",
       "<style scoped>\n",
       "    .dataframe tbody tr th:only-of-type {\n",
       "        vertical-align: middle;\n",
       "    }\n",
       "\n",
       "    .dataframe tbody tr th {\n",
       "        vertical-align: top;\n",
       "    }\n",
       "\n",
       "    .dataframe thead th {\n",
       "        text-align: right;\n",
       "    }\n",
       "</style>\n",
       "<table border=\"1\" class=\"dataframe\">\n",
       "  <thead>\n",
       "    <tr style=\"text-align: right;\">\n",
       "      <th></th>\n",
       "      <th>Gender</th>\n",
       "      <th>Distance</th>\n",
       "      <th>YearsWorked</th>\n",
       "      <th>PreviousSalary</th>\n",
       "      <th>Salary</th>\n",
       "      <th>SelfReview</th>\n",
       "      <th>SupervisorReview</th>\n",
       "      <th>DepartmentCode</th>\n",
       "      <th>Left</th>\n",
       "    </tr>\n",
       "  </thead>\n",
       "  <tbody>\n",
       "    <tr>\n",
       "      <th>0</th>\n",
       "      <td>1</td>\n",
       "      <td>&gt;30miles</td>\n",
       "      <td>10</td>\n",
       "      <td>63K</td>\n",
       "      <td>65K</td>\n",
       "      <td>4.0</td>\n",
       "      <td>5.0</td>\n",
       "      <td>2</td>\n",
       "      <td>0</td>\n",
       "    </tr>\n",
       "    <tr>\n",
       "      <th>1</th>\n",
       "      <td>0</td>\n",
       "      <td>~10miles</td>\n",
       "      <td>7</td>\n",
       "      <td>54K</td>\n",
       "      <td>56K</td>\n",
       "      <td>4.0</td>\n",
       "      <td>4.0</td>\n",
       "      <td>2</td>\n",
       "      <td>0</td>\n",
       "    </tr>\n",
       "    <tr>\n",
       "      <th>2</th>\n",
       "      <td>0</td>\n",
       "      <td>&lt;5mile</td>\n",
       "      <td>5</td>\n",
       "      <td>60K</td>\n",
       "      <td>61K</td>\n",
       "      <td>4.0</td>\n",
       "      <td>4.0</td>\n",
       "      <td>3</td>\n",
       "      <td>0</td>\n",
       "    </tr>\n",
       "    <tr>\n",
       "      <th>3</th>\n",
       "      <td>0</td>\n",
       "      <td>~15miles</td>\n",
       "      <td>4</td>\n",
       "      <td>59K</td>\n",
       "      <td>60K</td>\n",
       "      <td>5.0</td>\n",
       "      <td>5.0</td>\n",
       "      <td>7</td>\n",
       "      <td>0</td>\n",
       "    </tr>\n",
       "    <tr>\n",
       "      <th>4</th>\n",
       "      <td>1</td>\n",
       "      <td>~20miles</td>\n",
       "      <td>6</td>\n",
       "      <td>61K</td>\n",
       "      <td>63K</td>\n",
       "      <td>5.0</td>\n",
       "      <td>5.0</td>\n",
       "      <td>5</td>\n",
       "      <td>0</td>\n",
       "    </tr>\n",
       "  </tbody>\n",
       "</table>\n",
       "</div>"
      ],
      "text/plain": [
       "   Gender  Distance  YearsWorked PreviousSalary Salary  SelfReview  \\\n",
       "0       1  >30miles           10            63K    65K         4.0   \n",
       "1       0  ~10miles            7            54K    56K         4.0   \n",
       "2       0    <5mile            5            60K    61K         4.0   \n",
       "3       0  ~15miles            4            59K    60K         5.0   \n",
       "4       1  ~20miles            6            61K    63K         5.0   \n",
       "\n",
       "   SupervisorReview  DepartmentCode  Left  \n",
       "0               5.0               2     0  \n",
       "1               4.0               2     0  \n",
       "2               4.0               3     0  \n",
       "3               5.0               7     0  \n",
       "4               5.0               5     0  "
      ]
     },
     "execution_count": 4,
     "metadata": {},
     "output_type": "execute_result"
    }
   ],
   "source": [
    "df.head()"
   ]
  },
  {
   "cell_type": "markdown",
   "id": "b4f2a210",
   "metadata": {},
   "source": [
    "# EDA"
   ]
  },
  {
   "cell_type": "code",
   "execution_count": 5,
   "id": "22a923f1",
   "metadata": {},
   "outputs": [
    {
     "data": {
      "text/plain": [
       "<bound method DataFrame.info of         Gender  Distance  YearsWorked PreviousSalary Salary  SelfReview  \\\n",
       "0            1  >30miles           10            63K    65K         4.0   \n",
       "1            0  ~10miles            7            54K    56K         4.0   \n",
       "2            0    <5mile            5            60K    61K         4.0   \n",
       "3            0  ~15miles            4            59K    60K         5.0   \n",
       "4            1  ~20miles            6            61K    63K         5.0   \n",
       "...        ...       ...          ...            ...    ...         ...   \n",
       "299995       0  >30miles            7            63K    64K         4.0   \n",
       "299996       1  ~15miles            6            60K    62K         5.0   \n",
       "299997       0  ~20miles            6            65K    66K         4.0   \n",
       "299998       0    <5mile            4            54K    55K         5.0   \n",
       "299999       0  ~20miles            6            61K    62K         5.0   \n",
       "\n",
       "        SupervisorReview  DepartmentCode  Left  \n",
       "0                    5.0               2     0  \n",
       "1                    4.0               2     0  \n",
       "2                    4.0               3     0  \n",
       "3                    5.0               7     0  \n",
       "4                    5.0               5     0  \n",
       "...                  ...             ...   ...  \n",
       "299995               5.0               2     1  \n",
       "299996               5.0               2     0  \n",
       "299997               5.0               6     1  \n",
       "299998               5.0               2     1  \n",
       "299999               4.0               7     0  \n",
       "\n",
       "[300000 rows x 9 columns]>"
      ]
     },
     "execution_count": 5,
     "metadata": {},
     "output_type": "execute_result"
    }
   ],
   "source": [
    "df.info"
   ]
  },
  {
   "cell_type": "code",
   "execution_count": 7,
   "id": "ff69bf7e",
   "metadata": {},
   "outputs": [
    {
     "data": {
      "text/plain": [
       "Gender                int64\n",
       "Distance             object\n",
       "YearsWorked           int64\n",
       "PreviousSalary       object\n",
       "Salary               object\n",
       "SelfReview          float64\n",
       "SupervisorReview    float64\n",
       "DepartmentCode        int64\n",
       "Left                  int64\n",
       "dtype: object"
      ]
     },
     "execution_count": 7,
     "metadata": {},
     "output_type": "execute_result"
    }
   ],
   "source": [
    "df.dtypes"
   ]
  },
  {
   "cell_type": "markdown",
   "id": "a6935fa9",
   "metadata": {},
   "source": [
    "we have three categorical variables which might need encoding later"
   ]
  },
  {
   "cell_type": "markdown",
   "id": "0538e28e",
   "metadata": {},
   "source": [
    "### now lets look at the missing values"
   ]
  },
  {
   "cell_type": "code",
   "execution_count": 8,
   "id": "63f4843e",
   "metadata": {},
   "outputs": [
    {
     "data": {
      "text/plain": [
       "Gender                0\n",
       "Distance            265\n",
       "YearsWorked           0\n",
       "PreviousSalary        0\n",
       "Salary                0\n",
       "SelfReview          584\n",
       "SupervisorReview    576\n",
       "DepartmentCode        0\n",
       "Left                  0\n",
       "dtype: int64"
      ]
     },
     "execution_count": 8,
     "metadata": {},
     "output_type": "execute_result"
    }
   ],
   "source": [
    "df.isnull().sum()"
   ]
  },
  {
   "cell_type": "markdown",
   "id": "f2fd3a73",
   "metadata": {},
   "source": [
    "Looks like some of the columns need some imputation"
   ]
  },
  {
   "cell_type": "markdown",
   "id": "034e25b3",
   "metadata": {},
   "source": [
    "### Let's look at the distribution of the numerical columns"
   ]
  },
  {
   "cell_type": "code",
   "execution_count": 11,
   "id": "9a8da71f",
   "metadata": {},
   "outputs": [
    {
     "data": {
      "image/png": "[encoded data removed]",
      "text/plain": [
       "<Figure size 1400x1400 with 6 Axes>"
      ]
     },
     "metadata": {},
     "output_type": "display_data"
    }
   ],
   "source": [
    "df.hist(figsize=(14,14))\n",
    "plt.show()"
   ]
  },
  {
   "cell_type": "markdown",
   "id": "5e5dedab",
   "metadata": {},
   "source": [
    "As we can see some of the columns are not distributed normally and the target column's distribution makes it imbalanced which might need us to adjust the parameters accordingly"
   ]
  },
  {
   "cell_type": "markdown",
   "id": "c0a4a62d",
   "metadata": {},
   "source": [
    "### Let's look at the categorical columns"
   ]
  },
  {
   "cell_type": "code",
   "execution_count": 12,
   "id": "0f9180be",
   "metadata": {},
   "outputs": [
    {
     "data": {
      "text/plain": [
       "~10miles    90148\n",
       "~15miles    89667\n",
       "~20miles    59836\n",
       ">30miles    30218\n",
       "<5mile      29866\n",
       "Name: Distance, dtype: int64"
      ]
     },
     "execution_count": 12,
     "metadata": {},
     "output_type": "execute_result"
    }
   ],
   "source": [
    "df['Distance'].value_counts()"
   ]
  },
  {
   "cell_type": "code",
   "execution_count": 13,
   "id": "8670541c",
   "metadata": {},
   "outputs": [
    {
     "data": {
      "text/plain": [
       "60K    39790\n",
       "59K    38557\n",
       "61K    37276\n",
       "58K    33261\n",
       "62K    30679\n",
       "57K    26071\n",
       "63K    21774\n",
       "56K    18927\n",
       "64K    13922\n",
       "55K    12367\n",
       "54K     7532\n",
       "65K     7147\n",
       "53K     4291\n",
       "66K     3056\n",
       "52K     2221\n",
       "51K     1024\n",
       "67K     1006\n",
       "50K      463\n",
       "68K      253\n",
       "49K      218\n",
       "48K       75\n",
       "69K       40\n",
       "47K       34\n",
       "46K        9\n",
       "45K        6\n",
       "70K        1\n",
       "Name: PreviousSalary, dtype: int64"
      ]
     },
     "execution_count": 13,
     "metadata": {},
     "output_type": "execute_result"
    }
   ],
   "source": [
    "df['PreviousSalary'].value_counts()"
   ]
  },
  {
   "cell_type": "code",
   "execution_count": 14,
   "id": "0ab478dd",
   "metadata": {},
   "outputs": [
    {
     "data": {
      "text/plain": [
       "61K    37943\n",
       "62K    37051\n",
       "63K    34922\n",
       "60K    33943\n",
       "59K    28141\n",
       "64K    27940\n",
       "58K    20849\n",
       "65K    15813\n",
       "66K    14486\n",
       "57K    14348\n",
       "56K     8965\n",
       "67K     8282\n",
       "55K     5378\n",
       "68K     3985\n",
       "54K     2884\n",
       "69K     1592\n",
       "53K     1440\n",
       "52K      706\n",
       "70K      580\n",
       "50K      213\n",
       "51K      209\n",
       "71K      173\n",
       "49K       71\n",
       "48K       33\n",
       "72K       33\n",
       "47K        9\n",
       "46K        6\n",
       "73K        3\n",
       "45K        1\n",
       "74K        1\n",
       "Name: Salary, dtype: int64"
      ]
     },
     "execution_count": 14,
     "metadata": {},
     "output_type": "execute_result"
    }
   ],
   "source": [
    "df['Salary'].value_counts()"
   ]
  },
  {
   "cell_type": "markdown",
   "id": "c4b5e35a",
   "metadata": {},
   "source": [
    "we are gonna change them to have better readability and convert the salries to int or float"
   ]
  },
  {
   "cell_type": "code",
   "execution_count": 15,
   "id": "78ba0eaa",
   "metadata": {},
   "outputs": [],
   "source": [
    "distance_mapping = {\n",
    "    '~10miles': 'Approx. 10 miles',\n",
    "    '~15miles': 'Approx. 15 miles',\n",
    "    '~20miles': 'Approx. 20 miles',\n",
    "    '>30miles': 'More than 30 miles',\n",
    "    '<5mile': 'Less than 5 miles'\n",
    "}\n",
    "\n",
    "# Apply the updated mapping to the Distance column\n",
    "df['Distance'] = df['Distance'].map(distance_mapping)"
   ]
  },
  {
   "cell_type": "code",
   "execution_count": 16,
   "id": "984e17fc",
   "metadata": {},
   "outputs": [
    {
     "data": {
      "text/plain": [
       "0         More than 30 miles\n",
       "1           Approx. 10 miles\n",
       "2          Less than 5 miles\n",
       "3           Approx. 15 miles\n",
       "4           Approx. 20 miles\n",
       "                 ...        \n",
       "299995    More than 30 miles\n",
       "299996      Approx. 15 miles\n",
       "299997      Approx. 20 miles\n",
       "299998     Less than 5 miles\n",
       "299999      Approx. 20 miles\n",
       "Name: Distance, Length: 300000, dtype: object"
      ]
     },
     "execution_count": 16,
     "metadata": {},
     "output_type": "execute_result"
    }
   ],
   "source": [
    "df['Distance']"
   ]
  },
  {
   "cell_type": "code",
   "execution_count": 17,
   "id": "59acec92",
   "metadata": {},
   "outputs": [],
   "source": [
    "df['PreviousSalary'] = df['PreviousSalary'].str.rstrip('K').astype(int) * 1000\n",
    "df['Salary'] = df['Salary'].str.rstrip('K').astype(int) * 1000"
   ]
  },
  {
   "cell_type": "code",
   "execution_count": 18,
   "id": "c7b451df",
   "metadata": {},
   "outputs": [
    {
     "data": {
      "text/html": [
       "<div>\n",
       "<style scoped>\n",
       "    .dataframe tbody tr th:only-of-type {\n",
       "        vertical-align: middle;\n",
       "    }\n",
       "\n",
       "    .dataframe tbody tr th {\n",
       "        vertical-align: top;\n",
       "    }\n",
       "\n",
       "    .dataframe thead th {\n",
       "        text-align: right;\n",
       "    }\n",
       "</style>\n",
       "<table border=\"1\" class=\"dataframe\">\n",
       "  <thead>\n",
       "    <tr style=\"text-align: right;\">\n",
       "      <th></th>\n",
       "      <th>Gender</th>\n",
       "      <th>Distance</th>\n",
       "      <th>YearsWorked</th>\n",
       "      <th>PreviousSalary</th>\n",
       "      <th>Salary</th>\n",
       "      <th>SelfReview</th>\n",
       "      <th>SupervisorReview</th>\n",
       "      <th>DepartmentCode</th>\n",
       "      <th>Left</th>\n",
       "    </tr>\n",
       "  </thead>\n",
       "  <tbody>\n",
       "    <tr>\n",
       "      <th>0</th>\n",
       "      <td>1</td>\n",
       "      <td>More than 30 miles</td>\n",
       "      <td>10</td>\n",
       "      <td>63000</td>\n",
       "      <td>65000</td>\n",
       "      <td>4.0</td>\n",
       "      <td>5.0</td>\n",
       "      <td>2</td>\n",
       "      <td>0</td>\n",
       "    </tr>\n",
       "    <tr>\n",
       "      <th>1</th>\n",
       "      <td>0</td>\n",
       "      <td>Approx. 10 miles</td>\n",
       "      <td>7</td>\n",
       "      <td>54000</td>\n",
       "      <td>56000</td>\n",
       "      <td>4.0</td>\n",
       "      <td>4.0</td>\n",
       "      <td>2</td>\n",
       "      <td>0</td>\n",
       "    </tr>\n",
       "    <tr>\n",
       "      <th>2</th>\n",
       "      <td>0</td>\n",
       "      <td>Less than 5 miles</td>\n",
       "      <td>5</td>\n",
       "      <td>60000</td>\n",
       "      <td>61000</td>\n",
       "      <td>4.0</td>\n",
       "      <td>4.0</td>\n",
       "      <td>3</td>\n",
       "      <td>0</td>\n",
       "    </tr>\n",
       "    <tr>\n",
       "      <th>3</th>\n",
       "      <td>0</td>\n",
       "      <td>Approx. 15 miles</td>\n",
       "      <td>4</td>\n",
       "      <td>59000</td>\n",
       "      <td>60000</td>\n",
       "      <td>5.0</td>\n",
       "      <td>5.0</td>\n",
       "      <td>7</td>\n",
       "      <td>0</td>\n",
       "    </tr>\n",
       "    <tr>\n",
       "      <th>4</th>\n",
       "      <td>1</td>\n",
       "      <td>Approx. 20 miles</td>\n",
       "      <td>6</td>\n",
       "      <td>61000</td>\n",
       "      <td>63000</td>\n",
       "      <td>5.0</td>\n",
       "      <td>5.0</td>\n",
       "      <td>5</td>\n",
       "      <td>0</td>\n",
       "    </tr>\n",
       "  </tbody>\n",
       "</table>\n",
       "</div>"
      ],
      "text/plain": [
       "   Gender            Distance  YearsWorked  PreviousSalary  Salary  \\\n",
       "0       1  More than 30 miles           10           63000   65000   \n",
       "1       0    Approx. 10 miles            7           54000   56000   \n",
       "2       0   Less than 5 miles            5           60000   61000   \n",
       "3       0    Approx. 15 miles            4           59000   60000   \n",
       "4       1    Approx. 20 miles            6           61000   63000   \n",
       "\n",
       "   SelfReview  SupervisorReview  DepartmentCode  Left  \n",
       "0         4.0               5.0               2     0  \n",
       "1         4.0               4.0               2     0  \n",
       "2         4.0               4.0               3     0  \n",
       "3         5.0               5.0               7     0  \n",
       "4         5.0               5.0               5     0  "
      ]
     },
     "execution_count": 18,
     "metadata": {},
     "output_type": "execute_result"
    }
   ],
   "source": [
    "df.head()"
   ]
  },
  {
   "cell_type": "code",
   "execution_count": 22,
   "id": "e6f3edb1",
   "metadata": {},
   "outputs": [
    {
     "name": "stderr",
     "output_type": "stream",
     "text": [
      "C:\\Users\\pavan sidhartha\\AppData\\Local\\Temp\\ipykernel_3808\\328914496.py:1: FutureWarning: The default value of numeric_only in DataFrame.corr is deprecated. In a future version, it will default to False. Select only valid columns or specify the value of numeric_only to silence this warning.\n",
      "  correlation_matrix = df.corr()\n"
     ]
    },
    {
     "data": {
      "image/png": "[encoded data removed]",
      "text/plain": [
       "<Figure size 1000x800 with 2 Axes>"
      ]
     },
     "metadata": {},
     "output_type": "display_data"
    }
   ],
   "source": [
    "correlation_matrix = df.corr()\n",
    "\n",
    "# Plotting the heatmap\n",
    "plt.figure(figsize=(10, 8))\n",
    "sns.heatmap(correlation_matrix, annot=True, cmap='coolwarm', fmt=\".2f\", annot_kws={\"size\": 10})\n",
    "plt.title('Correlation Matrix')\n",
    "plt.show()"
   ]
  },
  {
   "cell_type": "markdown",
   "id": "c899f7fb",
   "metadata": {},
   "source": [
    "we only have one column whose correlation is really significant to the target variale which is not sufficient"
   ]
  },
  {
   "cell_type": "markdown",
   "id": "bdd3a0a8",
   "metadata": {},
   "source": [
    "# Create Train and Test Splits"
   ]
  },
  {
   "cell_type": "code",
   "execution_count": 25,
   "id": "234eed35",
   "metadata": {},
   "outputs": [],
   "source": [
    "X = df[['Gender', 'Distance', 'YearsWorked', 'PreviousSalary', 'Salary', 'SelfReview', 'SupervisorReview','DepartmentCode']]\n",
    "y = df['Left']\n",
    "\n",
    "X_train, X_test, y_train, y_test = train_test_split(X, y, test_size=0.2, random_state=42)"
   ]
  },
  {
   "cell_type": "markdown",
   "id": "1766c61a",
   "metadata": {},
   "source": [
    "# Pipelines"
   ]
  },
  {
   "cell_type": "markdown",
   "id": "5cc42221",
   "metadata": {},
   "source": [
    " * Let's use StandardScaler for scaling\n",
    " * Simple Imputer for handling missing values\n",
    " * One Hot Encodind for categorical data"
   ]
  },
  {
   "cell_type": "code",
   "execution_count": 36,
   "id": "9a6dbf22",
   "metadata": {},
   "outputs": [],
   "source": [
    "numerical_features = [ 'YearsWorked', 'PreviousSalary', 'Salary']\n",
    "categorical_features = ['Distance','Gender', 'SelfReview', 'SupervisorReview', 'DepartmentCode']\n",
    "\n",
    "# Create preprocessing steps for numerical and categorical features\n",
    "numerical_transformer = Pipeline(steps=[\n",
    "    ('imputer', SimpleImputer(strategy='median')),\n",
    "    ('scaler', StandardScaler())\n",
    "])\n",
    "\n",
    "categorical_transformer = Pipeline(steps=[\n",
    "    ('imputer', SimpleImputer(strategy='most_frequent')),\n",
    "    ('onehot', OneHotEncoder(handle_unknown='ignore'))\n",
    "])\n",
    "\n",
    "# Combine preprocessing steps using ColumnTransformer\n",
    "preprocessor = ColumnTransformer(\n",
    "    transformers=[\n",
    "        ('num', numerical_transformer, numerical_features),\n",
    "        ('cat', categorical_transformer, categorical_features)\n",
    "    ])\n"
   ]
  },
  {
   "cell_type": "code",
   "execution_count": 37,
   "id": "5c1a5b6c",
   "metadata": {},
   "outputs": [
    {
     "data": {
      "text/html": [
       "<style>#sk-container-id-3 {color: black;}#sk-container-id-3 pre{padding: 0;}#sk-container-id-3 div.sk-toggleable {background-color: white;}#sk-container-id-3 label.sk-toggleable__label {cursor: pointer;display: block;width: 100%;margin-bottom: 0;padding: 0.3em;box-sizing: border-box;text-align: center;}#sk-container-id-3 label.sk-toggleable__label-arrow:before {content: \"▸\";float: left;margin-right: 0.25em;color: #696969;}#sk-container-id-3 label.sk-toggleable__label-arrow:hover:before {color: black;}#sk-container-id-3 div.sk-estimator:hover label.sk-toggleable__label-arrow:before {color: black;}#sk-container-id-3 div.sk-toggleable__content {max-height: 0;max-width: 0;overflow: hidden;text-align: left;background-color: #f0f8ff;}#sk-container-id-3 div.sk-toggleable__content pre {margin: 0.2em;color: black;border-radius: 0.25em;background-color: #f0f8ff;}#sk-container-id-3 input.sk-toggleable__control:checked~div.sk-toggleable__content {max-height: 200px;max-width: 100%;overflow: auto;}#sk-container-id-3 input.sk-toggleable__control:checked~label.sk-toggleable__label-arrow:before {content: \"▾\";}#sk-container-id-3 div.sk-estimator input.sk-toggleable__control:checked~label.sk-toggleable__label {background-color: #d4ebff;}#sk-container-id-3 div.sk-label input.sk-toggleable__control:checked~label.sk-toggleable__label {background-color: #d4ebff;}#sk-container-id-3 input.sk-hidden--visually {border: 0;clip: rect(1px 1px 1px 1px);clip: rect(1px, 1px, 1px, 1px);height: 1px;margin: -1px;overflow: hidden;padding: 0;position: absolute;width: 1px;}#sk-container-id-3 div.sk-estimator {font-family: monospace;background-color: #f0f8ff;border: 1px dotted black;border-radius: 0.25em;box-sizing: border-box;margin-bottom: 0.5em;}#sk-container-id-3 div.sk-estimator:hover {background-color: #d4ebff;}#sk-container-id-3 div.sk-parallel-item::after {content: \"\";width: 100%;border-bottom: 1px solid gray;flex-grow: 1;}#sk-container-id-3 div.sk-label:hover label.sk-toggleable__label {background-color: #d4ebff;}#sk-container-id-3 div.sk-serial::before {content: \"\";position: absolute;border-left: 1px solid gray;box-sizing: border-box;top: 0;bottom: 0;left: 50%;z-index: 0;}#sk-container-id-3 div.sk-serial {display: flex;flex-direction: column;align-items: center;background-color: white;padding-right: 0.2em;padding-left: 0.2em;position: relative;}#sk-container-id-3 div.sk-item {position: relative;z-index: 1;}#sk-container-id-3 div.sk-parallel {display: flex;align-items: stretch;justify-content: center;background-color: white;position: relative;}#sk-container-id-3 div.sk-item::before, #sk-container-id-3 div.sk-parallel-item::before {content: \"\";position: absolute;border-left: 1px solid gray;box-sizing: border-box;top: 0;bottom: 0;left: 50%;z-index: -1;}#sk-container-id-3 div.sk-parallel-item {display: flex;flex-direction: column;z-index: 1;position: relative;background-color: white;}#sk-container-id-3 div.sk-parallel-item:first-child::after {align-self: flex-end;width: 50%;}#sk-container-id-3 div.sk-parallel-item:last-child::after {align-self: flex-start;width: 50%;}#sk-container-id-3 div.sk-parallel-item:only-child::after {width: 0;}#sk-container-id-3 div.sk-dashed-wrapped {border: 1px dashed gray;margin: 0 0.4em 0.5em 0.4em;box-sizing: border-box;padding-bottom: 0.4em;background-color: white;}#sk-container-id-3 div.sk-label label {font-family: monospace;font-weight: bold;display: inline-block;line-height: 1.2em;}#sk-container-id-3 div.sk-label-container {text-align: center;}#sk-container-id-3 div.sk-container {/* jupyter's `normalize.less` sets `[hidden] { display: none; }` but bootstrap.min.css set `[hidden] { display: none !important; }` so we also need the `!important` here to be able to override the default hidden behavior on the sphinx rendered scikit-learn.org. See: https://github.com/scikit-learn/scikit-learn/issues/21755 */display: inline-block !important;position: relative;}#sk-container-id-3 div.sk-text-repr-fallback {display: none;}</style><div id=\"sk-container-id-3\" class=\"sk-top-container\"><div class=\"sk-text-repr-fallback\"><pre>ColumnTransformer(transformers=[(&#x27;num&#x27;,\n",
       "                                 Pipeline(steps=[(&#x27;imputer&#x27;,\n",
       "                                                  SimpleImputer(strategy=&#x27;median&#x27;)),\n",
       "                                                 (&#x27;scaler&#x27;, StandardScaler())]),\n",
       "                                 [&#x27;YearsWorked&#x27;, &#x27;PreviousSalary&#x27;, &#x27;Salary&#x27;]),\n",
       "                                (&#x27;cat&#x27;,\n",
       "                                 Pipeline(steps=[(&#x27;imputer&#x27;,\n",
       "                                                  SimpleImputer(strategy=&#x27;most_frequent&#x27;)),\n",
       "                                                 (&#x27;onehot&#x27;,\n",
       "                                                  OneHotEncoder(handle_unknown=&#x27;ignore&#x27;))]),\n",
       "                                 [&#x27;Distance&#x27;, &#x27;Gender&#x27;, &#x27;SelfReview&#x27;,\n",
       "                                  &#x27;SupervisorReview&#x27;, &#x27;DepartmentCode&#x27;])])</pre><b>In a Jupyter environment, please rerun this cell to show the HTML representation or trust the notebook. <br />On GitHub, the HTML representation is unable to render, please try loading this page with nbviewer.org.</b></div><div class=\"sk-container\" hidden><div class=\"sk-item sk-dashed-wrapped\"><div class=\"sk-label-container\"><div class=\"sk-label sk-toggleable\"><input class=\"sk-toggleable__control sk-hidden--visually\" id=\"sk-estimator-id-15\" type=\"checkbox\" ><label for=\"sk-estimator-id-15\" class=\"sk-toggleable__label sk-toggleable__label-arrow\">ColumnTransformer</label><div class=\"sk-toggleable__content\"><pre>ColumnTransformer(transformers=[(&#x27;num&#x27;,\n",
       "                                 Pipeline(steps=[(&#x27;imputer&#x27;,\n",
       "                                                  SimpleImputer(strategy=&#x27;median&#x27;)),\n",
       "                                                 (&#x27;scaler&#x27;, StandardScaler())]),\n",
       "                                 [&#x27;YearsWorked&#x27;, &#x27;PreviousSalary&#x27;, &#x27;Salary&#x27;]),\n",
       "                                (&#x27;cat&#x27;,\n",
       "                                 Pipeline(steps=[(&#x27;imputer&#x27;,\n",
       "                                                  SimpleImputer(strategy=&#x27;most_frequent&#x27;)),\n",
       "                                                 (&#x27;onehot&#x27;,\n",
       "                                                  OneHotEncoder(handle_unknown=&#x27;ignore&#x27;))]),\n",
       "                                 [&#x27;Distance&#x27;, &#x27;Gender&#x27;, &#x27;SelfReview&#x27;,\n",
       "                                  &#x27;SupervisorReview&#x27;, &#x27;DepartmentCode&#x27;])])</pre></div></div></div><div class=\"sk-parallel\"><div class=\"sk-parallel-item\"><div class=\"sk-item\"><div class=\"sk-label-container\"><div class=\"sk-label sk-toggleable\"><input class=\"sk-toggleable__control sk-hidden--visually\" id=\"sk-estimator-id-16\" type=\"checkbox\" ><label for=\"sk-estimator-id-16\" class=\"sk-toggleable__label sk-toggleable__label-arrow\">num</label><div class=\"sk-toggleable__content\"><pre>[&#x27;YearsWorked&#x27;, &#x27;PreviousSalary&#x27;, &#x27;Salary&#x27;]</pre></div></div></div><div class=\"sk-serial\"><div class=\"sk-item\"><div class=\"sk-serial\"><div class=\"sk-item\"><div class=\"sk-estimator sk-toggleable\"><input class=\"sk-toggleable__control sk-hidden--visually\" id=\"sk-estimator-id-17\" type=\"checkbox\" ><label for=\"sk-estimator-id-17\" class=\"sk-toggleable__label sk-toggleable__label-arrow\">SimpleImputer</label><div class=\"sk-toggleable__content\"><pre>SimpleImputer(strategy=&#x27;median&#x27;)</pre></div></div></div><div class=\"sk-item\"><div class=\"sk-estimator sk-toggleable\"><input class=\"sk-toggleable__control sk-hidden--visually\" id=\"sk-estimator-id-18\" type=\"checkbox\" ><label for=\"sk-estimator-id-18\" class=\"sk-toggleable__label sk-toggleable__label-arrow\">StandardScaler</label><div class=\"sk-toggleable__content\"><pre>StandardScaler()</pre></div></div></div></div></div></div></div></div><div class=\"sk-parallel-item\"><div class=\"sk-item\"><div class=\"sk-label-container\"><div class=\"sk-label sk-toggleable\"><input class=\"sk-toggleable__control sk-hidden--visually\" id=\"sk-estimator-id-19\" type=\"checkbox\" ><label for=\"sk-estimator-id-19\" class=\"sk-toggleable__label sk-toggleable__label-arrow\">cat</label><div class=\"sk-toggleable__content\"><pre>[&#x27;Distance&#x27;, &#x27;Gender&#x27;, &#x27;SelfReview&#x27;, &#x27;SupervisorReview&#x27;, &#x27;DepartmentCode&#x27;]</pre></div></div></div><div class=\"sk-serial\"><div class=\"sk-item\"><div class=\"sk-serial\"><div class=\"sk-item\"><div class=\"sk-estimator sk-toggleable\"><input class=\"sk-toggleable__control sk-hidden--visually\" id=\"sk-estimator-id-20\" type=\"checkbox\" ><label for=\"sk-estimator-id-20\" class=\"sk-toggleable__label sk-toggleable__label-arrow\">SimpleImputer</label><div class=\"sk-toggleable__content\"><pre>SimpleImputer(strategy=&#x27;most_frequent&#x27;)</pre></div></div></div><div class=\"sk-item\"><div class=\"sk-estimator sk-toggleable\"><input class=\"sk-toggleable__control sk-hidden--visually\" id=\"sk-estimator-id-21\" type=\"checkbox\" ><label for=\"sk-estimator-id-21\" class=\"sk-toggleable__label sk-toggleable__label-arrow\">OneHotEncoder</label><div class=\"sk-toggleable__content\"><pre>OneHotEncoder(handle_unknown=&#x27;ignore&#x27;)</pre></div></div></div></div></div></div></div></div></div></div></div></div>"
      ],
      "text/plain": [
       "ColumnTransformer(transformers=[('num',\n",
       "                                 Pipeline(steps=[('imputer',\n",
       "                                                  SimpleImputer(strategy='median')),\n",
       "                                                 ('scaler', StandardScaler())]),\n",
       "                                 ['YearsWorked', 'PreviousSalary', 'Salary']),\n",
       "                                ('cat',\n",
       "                                 Pipeline(steps=[('imputer',\n",
       "                                                  SimpleImputer(strategy='most_frequent')),\n",
       "                                                 ('onehot',\n",
       "                                                  OneHotEncoder(handle_unknown='ignore'))]),\n",
       "                                 ['Distance', 'Gender', 'SelfReview',\n",
       "                                  'SupervisorReview', 'DepartmentCode'])])"
      ]
     },
     "execution_count": 37,
     "metadata": {},
     "output_type": "execute_result"
    }
   ],
   "source": [
    "preprocessor"
   ]
  },
  {
   "cell_type": "markdown",
   "id": "c613bf6a",
   "metadata": {},
   "source": [
    "# Model fitting"
   ]
  },
  {
   "cell_type": "markdown",
   "id": "5db59a78",
   "metadata": {},
   "source": [
    "### Let's use three models\n",
    "* Logistic Regression\n",
    "* Desicion Tree classifier \n",
    "* Random Forest Classfier"
   ]
  },
  {
   "cell_type": "markdown",
   "id": "42674981",
   "metadata": {},
   "source": [
    "### Logistic Regression"
   ]
  },
  {
   "cell_type": "code",
   "execution_count": 38,
   "id": "872ba4d4",
   "metadata": {},
   "outputs": [],
   "source": [
    "pipeline = Pipeline(steps=[('preprocessor', preprocessor),\n",
    "                           ('model', LogisticRegression())])  # Logistic Regression as the model"
   ]
  },
  {
   "cell_type": "code",
   "execution_count": 39,
   "id": "3fd20b61",
   "metadata": {},
   "outputs": [
    {
     "data": {
      "text/html": [
       "<style>#sk-container-id-4 {color: black;}#sk-container-id-4 pre{padding: 0;}#sk-container-id-4 div.sk-toggleable {background-color: white;}#sk-container-id-4 label.sk-toggleable__label {cursor: pointer;display: block;width: 100%;margin-bottom: 0;padding: 0.3em;box-sizing: border-box;text-align: center;}#sk-container-id-4 label.sk-toggleable__label-arrow:before {content: \"▸\";float: left;margin-right: 0.25em;color: #696969;}#sk-container-id-4 label.sk-toggleable__label-arrow:hover:before {color: black;}#sk-container-id-4 div.sk-estimator:hover label.sk-toggleable__label-arrow:before {color: black;}#sk-container-id-4 div.sk-toggleable__content {max-height: 0;max-width: 0;overflow: hidden;text-align: left;background-color: #f0f8ff;}#sk-container-id-4 div.sk-toggleable__content pre {margin: 0.2em;color: black;border-radius: 0.25em;background-color: #f0f8ff;}#sk-container-id-4 input.sk-toggleable__control:checked~div.sk-toggleable__content {max-height: 200px;max-width: 100%;overflow: auto;}#sk-container-id-4 input.sk-toggleable__control:checked~label.sk-toggleable__label-arrow:before {content: \"▾\";}#sk-container-id-4 div.sk-estimator input.sk-toggleable__control:checked~label.sk-toggleable__label {background-color: #d4ebff;}#sk-container-id-4 div.sk-label input.sk-toggleable__control:checked~label.sk-toggleable__label {background-color: #d4ebff;}#sk-container-id-4 input.sk-hidden--visually {border: 0;clip: rect(1px 1px 1px 1px);clip: rect(1px, 1px, 1px, 1px);height: 1px;margin: -1px;overflow: hidden;padding: 0;position: absolute;width: 1px;}#sk-container-id-4 div.sk-estimator {font-family: monospace;background-color: #f0f8ff;border: 1px dotted black;border-radius: 0.25em;box-sizing: border-box;margin-bottom: 0.5em;}#sk-container-id-4 div.sk-estimator:hover {background-color: #d4ebff;}#sk-container-id-4 div.sk-parallel-item::after {content: \"\";width: 100%;border-bottom: 1px solid gray;flex-grow: 1;}#sk-container-id-4 div.sk-label:hover label.sk-toggleable__label {background-color: #d4ebff;}#sk-container-id-4 div.sk-serial::before {content: \"\";position: absolute;border-left: 1px solid gray;box-sizing: border-box;top: 0;bottom: 0;left: 50%;z-index: 0;}#sk-container-id-4 div.sk-serial {display: flex;flex-direction: column;align-items: center;background-color: white;padding-right: 0.2em;padding-left: 0.2em;position: relative;}#sk-container-id-4 div.sk-item {position: relative;z-index: 1;}#sk-container-id-4 div.sk-parallel {display: flex;align-items: stretch;justify-content: center;background-color: white;position: relative;}#sk-container-id-4 div.sk-item::before, #sk-container-id-4 div.sk-parallel-item::before {content: \"\";position: absolute;border-left: 1px solid gray;box-sizing: border-box;top: 0;bottom: 0;left: 50%;z-index: -1;}#sk-container-id-4 div.sk-parallel-item {display: flex;flex-direction: column;z-index: 1;position: relative;background-color: white;}#sk-container-id-4 div.sk-parallel-item:first-child::after {align-self: flex-end;width: 50%;}#sk-container-id-4 div.sk-parallel-item:last-child::after {align-self: flex-start;width: 50%;}#sk-container-id-4 div.sk-parallel-item:only-child::after {width: 0;}#sk-container-id-4 div.sk-dashed-wrapped {border: 1px dashed gray;margin: 0 0.4em 0.5em 0.4em;box-sizing: border-box;padding-bottom: 0.4em;background-color: white;}#sk-container-id-4 div.sk-label label {font-family: monospace;font-weight: bold;display: inline-block;line-height: 1.2em;}#sk-container-id-4 div.sk-label-container {text-align: center;}#sk-container-id-4 div.sk-container {/* jupyter's `normalize.less` sets `[hidden] { display: none; }` but bootstrap.min.css set `[hidden] { display: none !important; }` so we also need the `!important` here to be able to override the default hidden behavior on the sphinx rendered scikit-learn.org. See: https://github.com/scikit-learn/scikit-learn/issues/21755 */display: inline-block !important;position: relative;}#sk-container-id-4 div.sk-text-repr-fallback {display: none;}</style><div id=\"sk-container-id-4\" class=\"sk-top-container\"><div class=\"sk-text-repr-fallback\"><pre>Pipeline(steps=[(&#x27;preprocessor&#x27;,\n",
       "                 ColumnTransformer(transformers=[(&#x27;num&#x27;,\n",
       "                                                  Pipeline(steps=[(&#x27;imputer&#x27;,\n",
       "                                                                   SimpleImputer(strategy=&#x27;median&#x27;)),\n",
       "                                                                  (&#x27;scaler&#x27;,\n",
       "                                                                   StandardScaler())]),\n",
       "                                                  [&#x27;YearsWorked&#x27;,\n",
       "                                                   &#x27;PreviousSalary&#x27;,\n",
       "                                                   &#x27;Salary&#x27;]),\n",
       "                                                 (&#x27;cat&#x27;,\n",
       "                                                  Pipeline(steps=[(&#x27;imputer&#x27;,\n",
       "                                                                   SimpleImputer(strategy=&#x27;most_frequent&#x27;)),\n",
       "                                                                  (&#x27;onehot&#x27;,\n",
       "                                                                   OneHotEncoder(handle_unknown=&#x27;ignore&#x27;))]),\n",
       "                                                  [&#x27;Distance&#x27;, &#x27;Gender&#x27;,\n",
       "                                                   &#x27;SelfReview&#x27;,\n",
       "                                                   &#x27;SupervisorReview&#x27;,\n",
       "                                                   &#x27;DepartmentCode&#x27;])])),\n",
       "                (&#x27;model&#x27;, LogisticRegression())])</pre><b>In a Jupyter environment, please rerun this cell to show the HTML representation or trust the notebook. <br />On GitHub, the HTML representation is unable to render, please try loading this page with nbviewer.org.</b></div><div class=\"sk-container\" hidden><div class=\"sk-item sk-dashed-wrapped\"><div class=\"sk-label-container\"><div class=\"sk-label sk-toggleable\"><input class=\"sk-toggleable__control sk-hidden--visually\" id=\"sk-estimator-id-22\" type=\"checkbox\" ><label for=\"sk-estimator-id-22\" class=\"sk-toggleable__label sk-toggleable__label-arrow\">Pipeline</label><div class=\"sk-toggleable__content\"><pre>Pipeline(steps=[(&#x27;preprocessor&#x27;,\n",
       "                 ColumnTransformer(transformers=[(&#x27;num&#x27;,\n",
       "                                                  Pipeline(steps=[(&#x27;imputer&#x27;,\n",
       "                                                                   SimpleImputer(strategy=&#x27;median&#x27;)),\n",
       "                                                                  (&#x27;scaler&#x27;,\n",
       "                                                                   StandardScaler())]),\n",
       "                                                  [&#x27;YearsWorked&#x27;,\n",
       "                                                   &#x27;PreviousSalary&#x27;,\n",
       "                                                   &#x27;Salary&#x27;]),\n",
       "                                                 (&#x27;cat&#x27;,\n",
       "                                                  Pipeline(steps=[(&#x27;imputer&#x27;,\n",
       "                                                                   SimpleImputer(strategy=&#x27;most_frequent&#x27;)),\n",
       "                                                                  (&#x27;onehot&#x27;,\n",
       "                                                                   OneHotEncoder(handle_unknown=&#x27;ignore&#x27;))]),\n",
       "                                                  [&#x27;Distance&#x27;, &#x27;Gender&#x27;,\n",
       "                                                   &#x27;SelfReview&#x27;,\n",
       "                                                   &#x27;SupervisorReview&#x27;,\n",
       "                                                   &#x27;DepartmentCode&#x27;])])),\n",
       "                (&#x27;model&#x27;, LogisticRegression())])</pre></div></div></div><div class=\"sk-serial\"><div class=\"sk-item sk-dashed-wrapped\"><div class=\"sk-label-container\"><div class=\"sk-label sk-toggleable\"><input class=\"sk-toggleable__control sk-hidden--visually\" id=\"sk-estimator-id-23\" type=\"checkbox\" ><label for=\"sk-estimator-id-23\" class=\"sk-toggleable__label sk-toggleable__label-arrow\">preprocessor: ColumnTransformer</label><div class=\"sk-toggleable__content\"><pre>ColumnTransformer(transformers=[(&#x27;num&#x27;,\n",
       "                                 Pipeline(steps=[(&#x27;imputer&#x27;,\n",
       "                                                  SimpleImputer(strategy=&#x27;median&#x27;)),\n",
       "                                                 (&#x27;scaler&#x27;, StandardScaler())]),\n",
       "                                 [&#x27;YearsWorked&#x27;, &#x27;PreviousSalary&#x27;, &#x27;Salary&#x27;]),\n",
       "                                (&#x27;cat&#x27;,\n",
       "                                 Pipeline(steps=[(&#x27;imputer&#x27;,\n",
       "                                                  SimpleImputer(strategy=&#x27;most_frequent&#x27;)),\n",
       "                                                 (&#x27;onehot&#x27;,\n",
       "                                                  OneHotEncoder(handle_unknown=&#x27;ignore&#x27;))]),\n",
       "                                 [&#x27;Distance&#x27;, &#x27;Gender&#x27;, &#x27;SelfReview&#x27;,\n",
       "                                  &#x27;SupervisorReview&#x27;, &#x27;DepartmentCode&#x27;])])</pre></div></div></div><div class=\"sk-parallel\"><div class=\"sk-parallel-item\"><div class=\"sk-item\"><div class=\"sk-label-container\"><div class=\"sk-label sk-toggleable\"><input class=\"sk-toggleable__control sk-hidden--visually\" id=\"sk-estimator-id-24\" type=\"checkbox\" ><label for=\"sk-estimator-id-24\" class=\"sk-toggleable__label sk-toggleable__label-arrow\">num</label><div class=\"sk-toggleable__content\"><pre>[&#x27;YearsWorked&#x27;, &#x27;PreviousSalary&#x27;, &#x27;Salary&#x27;]</pre></div></div></div><div class=\"sk-serial\"><div class=\"sk-item\"><div class=\"sk-serial\"><div class=\"sk-item\"><div class=\"sk-estimator sk-toggleable\"><input class=\"sk-toggleable__control sk-hidden--visually\" id=\"sk-estimator-id-25\" type=\"checkbox\" ><label for=\"sk-estimator-id-25\" class=\"sk-toggleable__label sk-toggleable__label-arrow\">SimpleImputer</label><div class=\"sk-toggleable__content\"><pre>SimpleImputer(strategy=&#x27;median&#x27;)</pre></div></div></div><div class=\"sk-item\"><div class=\"sk-estimator sk-toggleable\"><input class=\"sk-toggleable__control sk-hidden--visually\" id=\"sk-estimator-id-26\" type=\"checkbox\" ><label for=\"sk-estimator-id-26\" class=\"sk-toggleable__label sk-toggleable__label-arrow\">StandardScaler</label><div class=\"sk-toggleable__content\"><pre>StandardScaler()</pre></div></div></div></div></div></div></div></div><div class=\"sk-parallel-item\"><div class=\"sk-item\"><div class=\"sk-label-container\"><div class=\"sk-label sk-toggleable\"><input class=\"sk-toggleable__control sk-hidden--visually\" id=\"sk-estimator-id-27\" type=\"checkbox\" ><label for=\"sk-estimator-id-27\" class=\"sk-toggleable__label sk-toggleable__label-arrow\">cat</label><div class=\"sk-toggleable__content\"><pre>[&#x27;Distance&#x27;, &#x27;Gender&#x27;, &#x27;SelfReview&#x27;, &#x27;SupervisorReview&#x27;, &#x27;DepartmentCode&#x27;]</pre></div></div></div><div class=\"sk-serial\"><div class=\"sk-item\"><div class=\"sk-serial\"><div class=\"sk-item\"><div class=\"sk-estimator sk-toggleable\"><input class=\"sk-toggleable__control sk-hidden--visually\" id=\"sk-estimator-id-28\" type=\"checkbox\" ><label for=\"sk-estimator-id-28\" class=\"sk-toggleable__label sk-toggleable__label-arrow\">SimpleImputer</label><div class=\"sk-toggleable__content\"><pre>SimpleImputer(strategy=&#x27;most_frequent&#x27;)</pre></div></div></div><div class=\"sk-item\"><div class=\"sk-estimator sk-toggleable\"><input class=\"sk-toggleable__control sk-hidden--visually\" id=\"sk-estimator-id-29\" type=\"checkbox\" ><label for=\"sk-estimator-id-29\" class=\"sk-toggleable__label sk-toggleable__label-arrow\">OneHotEncoder</label><div class=\"sk-toggleable__content\"><pre>OneHotEncoder(handle_unknown=&#x27;ignore&#x27;)</pre></div></div></div></div></div></div></div></div></div></div><div class=\"sk-item\"><div class=\"sk-estimator sk-toggleable\"><input class=\"sk-toggleable__control sk-hidden--visually\" id=\"sk-estimator-id-30\" type=\"checkbox\" ><label for=\"sk-estimator-id-30\" class=\"sk-toggleable__label sk-toggleable__label-arrow\">LogisticRegression</label><div class=\"sk-toggleable__content\"><pre>LogisticRegression()</pre></div></div></div></div></div></div></div>"
      ],
      "text/plain": [
       "Pipeline(steps=[('preprocessor',\n",
       "                 ColumnTransformer(transformers=[('num',\n",
       "                                                  Pipeline(steps=[('imputer',\n",
       "                                                                   SimpleImputer(strategy='median')),\n",
       "                                                                  ('scaler',\n",
       "                                                                   StandardScaler())]),\n",
       "                                                  ['YearsWorked',\n",
       "                                                   'PreviousSalary',\n",
       "                                                   'Salary']),\n",
       "                                                 ('cat',\n",
       "                                                  Pipeline(steps=[('imputer',\n",
       "                                                                   SimpleImputer(strategy='most_frequent')),\n",
       "                                                                  ('onehot',\n",
       "                                                                   OneHotEncoder(handle_unknown='ignore'))]),\n",
       "                                                  ['Distance', 'Gender',\n",
       "                                                   'SelfReview',\n",
       "                                                   'SupervisorReview',\n",
       "                                                   'DepartmentCode'])])),\n",
       "                ('model', LogisticRegression())])"
      ]
     },
     "execution_count": 39,
     "metadata": {},
     "output_type": "execute_result"
    }
   ],
   "source": [
    "pipeline.fit(X_train, y_train)"
   ]
  },
  {
   "cell_type": "code",
   "execution_count": 40,
   "id": "507f6a4b",
   "metadata": {},
   "outputs": [
    {
     "name": "stdout",
     "output_type": "stream",
     "text": [
      "Training Accuracy: 0.8278791666666667\n",
      "Testing Accuracy: 0.8288833333333333\n"
     ]
    }
   ],
   "source": [
    "train_predictions = pipeline.predict(X_train)\n",
    "\n",
    "# Predict on the testing data\n",
    "test_predictions = pipeline.predict(X_test)\n",
    "\n",
    "# Calculate training and testing accuracy\n",
    "train_accuracy = accuracy_score(y_train, train_predictions)\n",
    "test_accuracy = accuracy_score(y_test, test_predictions)\n",
    "\n",
    "print(\"Training Accuracy:\", train_accuracy)\n",
    "print(\"Testing Accuracy:\", test_accuracy)"
   ]
  },
  {
   "cell_type": "markdown",
   "id": "4bc95507",
   "metadata": {},
   "source": [
    "it seems the data was a good fit as the test accuracy was greater than training accuracy"
   ]
  },
  {
   "cell_type": "markdown",
   "id": "603f6c29",
   "metadata": {},
   "source": [
    "### Decision Tree Classifier"
   ]
  },
  {
   "cell_type": "code",
   "execution_count": 43,
   "id": "e50c50bc",
   "metadata": {},
   "outputs": [],
   "source": [
    "dt_model = DecisionTreeClassifier()\n",
    "\n",
    "# Create a pipeline by combining preprocessing steps with Decision Tree Classifier\n",
    "pipeline = Pipeline(steps=[('preprocessor', preprocessor),\n",
    "                           ('model', dt_model)])  "
   ]
  },
  {
   "cell_type": "code",
   "execution_count": 44,
   "id": "2850ddac",
   "metadata": {},
   "outputs": [
    {
     "name": "stdout",
     "output_type": "stream",
     "text": [
      "Training Accuracy: 0.9407416666666667\n",
      "Testing Accuracy: 0.85495\n"
     ]
    }
   ],
   "source": [
    "pipeline.fit(X_train, y_train)\n",
    "\n",
    "# Predict on the training and testing data\n",
    "train_predictions = pipeline.predict(X_train)\n",
    "test_predictions = pipeline.predict(X_test)\n",
    "\n",
    "# Calculate training and testing accuracy\n",
    "train_accuracy = accuracy_score(y_train, train_predictions)\n",
    "test_accuracy = accuracy_score(y_test, test_predictions)\n",
    "\n",
    "print(\"Training Accuracy:\", train_accuracy)\n",
    "print(\"Testing Accuracy:\", test_accuracy)"
   ]
  },
  {
   "cell_type": "markdown",
   "id": "f7dd1b5f",
   "metadata": {},
   "source": [
    "the train accuracy here is a lot larger than logistic regression and also the test accuracy is greater than logistic regression but we might as well go and explore other models for better reults"
   ]
  },
  {
   "cell_type": "markdown",
   "id": "6b151ae2",
   "metadata": {},
   "source": [
    "### Random Forest Classifier"
   ]
  },
  {
   "cell_type": "code",
   "execution_count": 46,
   "id": "de0f7df4",
   "metadata": {},
   "outputs": [],
   "source": [
    "rf_model = RandomForestClassifier()\n",
    "\n",
    "# Create a pipeline by combining preprocessing steps with Random Forest Classifier\n",
    "pipeline = Pipeline(steps=[('preprocessor', preprocessor),\n",
    "                           ('model', rf_model)])  \n"
   ]
  },
  {
   "cell_type": "code",
   "execution_count": 47,
   "id": "16f222b9",
   "metadata": {},
   "outputs": [
    {
     "name": "stdout",
     "output_type": "stream",
     "text": [
      "Training Accuracy: 0.9407416666666667\n",
      "Testing Accuracy: 0.8543\n"
     ]
    }
   ],
   "source": [
    "pipeline.fit(X_train, y_train)\n",
    "\n",
    "# Predict on the training and testing data\n",
    "train_predictions = pipeline.predict(X_train)\n",
    "test_predictions = pipeline.predict(X_test)\n",
    "\n",
    "# Calculate training and testing accuracy\n",
    "train_accuracy = accuracy_score(y_train, train_predictions)\n",
    "test_accuracy = accuracy_score(y_test, test_predictions)\n",
    "\n",
    "print(\"Training Accuracy:\", train_accuracy)\n",
    "print(\"Testing Accuracy:\", test_accuracy)"
   ]
  },
  {
   "cell_type": "markdown",
   "id": "9eb5925b",
   "metadata": {},
   "source": [
    "Here we can see a possile overfitting in the model let's use grid search for finding the best model with best parameters"
   ]
  },
  {
   "cell_type": "markdown",
   "id": "280cacf6",
   "metadata": {},
   "source": [
    "### Grid Search"
   ]
  },
  {
   "cell_type": "code",
   "execution_count": 59,
   "id": "a8213235",
   "metadata": {},
   "outputs": [
    {
     "name": "stdout",
     "output_type": "stream",
     "text": [
      "Best Parameters for Logistic Regression: {'model__C': 10.0}\n",
      "Best Accuracy for Logistic Regression: 0.8278874999999999\n"
     ]
    }
   ],
   "source": [
    "# Define model and its parameter grid\n",
    "model_lr = LogisticRegression()\n",
    "param_grid_lr = {\n",
    "    'model__C': [0.1, 1.0, 10.0]  # Adjust parameter grid as needed\n",
    "}\n",
    "\n",
    "# Create a pipeline by combining preprocessing steps with the model\n",
    "pipeline_lr = Pipeline(steps=[('preprocessor', preprocessor),\n",
    "                               ('model', model_lr)])\n",
    "\n",
    "# Perform grid search\n",
    "grid_search_lr = GridSearchCV(pipeline_lr, param_grid_lr, cv=5, scoring='accuracy')\n",
    "grid_search_lr.fit(X_train, y_train)\n",
    "\n",
    "# Print the best parameters and accuracy for Logistic Regression\n",
    "print(\"Best Parameters for Logistic Regression:\", grid_search_lr.best_params_)\n",
    "print(\"Best Accuracy for Logistic Regression:\", grid_search_lr.best_score_)"
   ]
  },
  {
   "cell_type": "code",
   "execution_count": 60,
   "id": "9684a351",
   "metadata": {},
   "outputs": [
    {
     "name": "stdout",
     "output_type": "stream",
     "text": [
      "Best Parameters for Decision Tree: {'model__criterion': 'entropy', 'model__max_depth': 20, 'model__min_samples_leaf': 1, 'model__min_samples_split': 10}\n",
      "Best Accuracy for Decision Tree: 0.86265\n"
     ]
    }
   ],
   "source": [
    "# Define model and its parameter grid\n",
    "model_dt = DecisionTreeClassifier()\n",
    "param_grid_dt = {\n",
    "    'model__max_depth': [None, 10, 20, 30],\n",
    "    'model__min_samples_split': [2, 5, 10],\n",
    "    'model__min_samples_leaf': [1, 2, 4],\n",
    "    'model__criterion': ['gini', 'entropy']\n",
    "}\n",
    "\n",
    "# Create a pipeline by combining preprocessing steps with the model\n",
    "pipeline_dt = Pipeline(steps=[('preprocessor', preprocessor),\n",
    "                              ('model', model_dt)])\n",
    "\n",
    "# Perform grid search\n",
    "grid_search_dt = GridSearchCV(pipeline_dt, param_grid_dt, cv=5, scoring='accuracy')\n",
    "grid_search_dt.fit(X_train, y_train)\n",
    "\n",
    "# Print the best parameters and accuracy for Decision Tree\n",
    "print(\"Best Parameters for Decision Tree:\", grid_search_dt.best_params_)\n",
    "print(\"Best Accuracy for Decision Tree:\", grid_search_dt.best_score_)"
   ]
  },
  {
   "cell_type": "code",
   "execution_count": 61,
   "id": "172600f1",
   "metadata": {},
   "outputs": [
    {
     "name": "stdout",
     "output_type": "stream",
     "text": [
      "Best Parameters for Random Forest: {'model__max_depth': None, 'model__min_samples_leaf': 2, 'model__min_samples_split': 5, 'model__n_estimators': 100}\n",
      "Best Accuracy for Random Forest: 0.8520083333333334\n"
     ]
    }
   ],
   "source": [
    "# Define model and its parameter grid\n",
    "model_rf = RandomForestClassifier()\n",
    "param_grid_rf = {\n",
    "    'model__n_estimators': [100, 200, 300],\n",
    "    'model__max_depth': [None, 10, 20, 30],\n",
    "    'model__min_samples_split': [2, 5, 10],\n",
    "    'model__min_samples_leaf': [1, 2, 4]\n",
    "}\n",
    "\n",
    "# Create a pipeline by combining preprocessing steps with the model\n",
    "pipeline_rf = Pipeline(steps=[('preprocessor', preprocessor),\n",
    "                              ('model', model_rf)])\n",
    "\n",
    "# Perform grid search\n",
    "grid_search_rf = GridSearchCV(pipeline_rf, param_grid_rf, cv=5, scoring='accuracy')\n",
    "grid_search_rf.fit(X_train, y_train)\n",
    "\n",
    "# Print the best parameters and accuracy for Random Forest\n",
    "print(\"Best Parameters for Random Forest:\", grid_search_rf.best_params_)\n",
    "print(\"Best Accuracy for Random Forest:\", grid_search_rf.best_score_)"
   ]
  },
  {
   "cell_type": "markdown",
   "id": "5ab546ce",
   "metadata": {},
   "source": [
    "The Decision Tree model attained the highest accuracy among the three,and it outperformed random forest as the dataset might have simpler relationships between features and target variable. Also, the accuracy difference between them is not significantly large, therefore decision tree is better than random forest computationally. "
   ]
  }
 ],
 "metadata": {
  "kernelspec": {
   "display_name": "Python 3 (ipykernel)",
   "language": "python",
   "name": "python3"
  },
  "language_info": {
   "codemirror_mode": {
    "name": "ipython",
    "version": 3
   },
   "file_extension": ".py",
   "mimetype": "text/x-python",
   "name": "python",
   "nbconvert_exporter": "python",
   "pygments_lexer": "ipython3",
   "version": "3.11.4"
  }
 },
 "nbformat": 4,
 "nbformat_minor": 5
}
